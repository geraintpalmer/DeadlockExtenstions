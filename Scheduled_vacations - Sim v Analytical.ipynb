{
 "cells": [
  {
   "cell_type": "code",
   "execution_count": 1,
   "metadata": {
    "collapsed": true
   },
   "outputs": [],
   "source": [
    "from __future__ import division\n",
    "import numpy as np\n",
    "import ciw\n",
    "import math\n",
    "import yaml\n",
    "import matplotlib.pyplot as plt\n",
    "from matplotlib import cm\n",
    "import seaborn as sns\n",
    "from tqdm import tqdm_notebook\n",
    "sns.set_style('whitegrid')\n",
    "%matplotlib inline"
   ]
  },
  {
   "cell_type": "code",
   "execution_count": 45,
   "metadata": {
    "collapsed": true
   },
   "outputs": [],
   "source": [
    "def mean_time_deadlock_sim(n, m, r11, L, schedule_lengths):\n",
    "    s, sv = schedule_lengths[0], schedule_lengths[1]\n",
    "    params = {\n",
    "        'Arrival_distributions': [['Exponential', L]],\n",
    "        'Service_distributions': [['Exponential', m]],\n",
    "        'Transition_matrices': [[r11]],\n",
    "        'schedule_vacations': ([[s, 1], [s + sv, 0]], True),\n",
    "        'Number_of_servers': ['schedule_vacations'],\n",
    "        'Queue_capacities': [n]\n",
    "    }\n",
    "    times = []\n",
    "    for i in range(10000):\n",
    "        N = ciw.create_network(params)\n",
    "        Q = ciw.Simulation(N, deadlock_detector='StateDigraph')\n",
    "        Q.simulate_until_deadlock()\n",
    "        times.append(Q.times_to_deadlock[((0, 0),)])\n",
    "    return times"
   ]
  },
  {
   "cell_type": "code",
   "execution_count": 3,
   "metadata": {
    "collapsed": true
   },
   "outputs": [],
   "source": [
    "class NetworkP:\n",
    "    \"\"\"\n",
    "    A class to hold the queueing network object\n",
    "    \"\"\"\n",
    "\n",
    "    def __init__(self, n1, mu1, r11, L1):\n",
    "        \"\"\"\n",
    "        Initialises the Network object\n",
    "        \"\"\"\n",
    "        self.n1 = n1\n",
    "        self.mu1 = mu1\n",
    "        self.r11 = r11\n",
    "        self.L1 = L1\n",
    "        self.State_Space = [(i) for i in range(self.n1+2)] + [-1]\n",
    "        self.write_transition_matrix()\n",
    "        self.discretise_transition_matrix()\n",
    "\n",
    "    def find_transition_rates(self, state1, state2):\n",
    "        \"\"\"\n",
    "        Finds the transition rates for given state transition\n",
    "\n",
    "        \"\"\"\n",
    "        if state1 == -1:\n",
    "            return 0\n",
    "        if state2 == -1:\n",
    "            if state1 == self.n1 + 1:\n",
    "                return self.r11*self.mu1\n",
    "            else:\n",
    "                return 0\n",
    "        else:\n",
    "            delta = (state2-state1)\n",
    "            if delta == 1:\n",
    "                if state1<self.n1+1:\n",
    "                    return self.L1\n",
    "                return 0\n",
    "            if delta == -1:\n",
    "                return (1-self.r11)*self.mu1\n",
    "        return 0\n",
    "\n",
    "    def write_transition_matrix(self):\n",
    "        \"\"\"\n",
    "        Writes the transition matrix for the markov chain\n",
    "        \"\"\"\n",
    "        self.transition_matrix = [[self.find_transition_rates(s1, s2) for s2 in self.State_Space] for s1 in self.State_Space]\n",
    "        for i in range(len(self.transition_matrix)):\n",
    "            a = sum(self.transition_matrix[i])\n",
    "            self.transition_matrix[i][i] = -a\n",
    "            self.transition_matrix = np.array(self.transition_matrix)\n",
    "            \n",
    "    def get_time_step_upper_bound(self):\n",
    "        return 1 / max([abs(self.transition_matrix[i][i]) for i in range(len(self.transition_matrix))])\n",
    "        \n",
    "\n",
    "    def discretise_transition_matrix(self, time_step=None):\n",
    "        \"\"\"\n",
    "        Disctetises the transition matrix\n",
    "        \"\"\"\n",
    "        if time_step is None:\n",
    "            self.time_step = 1 / max([abs(self.transition_matrix[i][i]) for i in range(len(self.transition_matrix))])\n",
    "        else:\n",
    "            self.time_step = time_step\n",
    "        self.discrete_transition_matrix = self.transition_matrix*self.time_step + np.identity(len(self.transition_matrix))\n",
    "\n",
    "        \n",
    "class NetworkPv:\n",
    "    \"\"\"\n",
    "    A class to hold the queueing network object\n",
    "    \"\"\"\n",
    "\n",
    "    def __init__(self, n1, mu1, r11, L1):\n",
    "        \"\"\"\n",
    "        Initialises the Network object\n",
    "        \"\"\"\n",
    "        self.n1 = n1\n",
    "        self.mu1 = mu1\n",
    "        self.r11 = r11\n",
    "        self.L1 = L1\n",
    "        self.State_Space = [(i) for i in range(self.n1+2)] + [-1]\n",
    "        self.write_transition_matrix()\n",
    "        self.discretise_transition_matrix()\n",
    "\n",
    "    def find_transition_rates(self, state1, state2):\n",
    "        \"\"\"\n",
    "        Finds the transition rates for given state transition\n",
    "\n",
    "        \"\"\"\n",
    "        if state1 == -1:\n",
    "            return 0\n",
    "        if state2 == -1:\n",
    "            if state1 == self.n1 + 1:\n",
    "                return self.r11*self.mu1\n",
    "            else:\n",
    "                return 0\n",
    "        else:\n",
    "            delta = (state2-state1)\n",
    "            if delta == 1:\n",
    "                if state1<self.n1:\n",
    "                    return self.L1\n",
    "                return 0\n",
    "            if delta == -1:\n",
    "                return (1-self.r11)*self.mu1\n",
    "        return 0\n",
    "\n",
    "    def write_transition_matrix(self):\n",
    "        \"\"\"\n",
    "        Writes the transition matrix for the markov chain\n",
    "        \"\"\"\n",
    "        self.transition_matrix = [[self.find_transition_rates(s1, s2) for s2 in self.State_Space] for s1 in self.State_Space]\n",
    "        for i in range(len(self.transition_matrix)):\n",
    "            a = sum(self.transition_matrix[i])\n",
    "            self.transition_matrix[i][i] = -a\n",
    "            self.transition_matrix = np.array(self.transition_matrix)\n",
    "            \n",
    "    def get_time_step_upper_bound(self):\n",
    "        return 1 / max([abs(self.transition_matrix[i][i]) for i in range(len(self.transition_matrix))])\n",
    "        \n",
    "\n",
    "    def discretise_transition_matrix(self, time_step=None):\n",
    "        \"\"\"\n",
    "        Disctetises the transition matrix\n",
    "        \"\"\"\n",
    "        if time_step is None:\n",
    "            self.time_step = 1 / max([abs(self.transition_matrix[i][i]) for i in range(len(self.transition_matrix))])\n",
    "        else:\n",
    "            self.time_step = time_step\n",
    "        self.discrete_transition_matrix = self.transition_matrix*self.time_step + np.identity(len(self.transition_matrix))\n",
    "\n",
    "\n",
    "        \n",
    "        \n",
    "def find_time_step(schedule_lengths, upper_bound):\n",
    "    \"\"\"\n",
    "    schedule_lengths: tuple of the form (length1, length2)\n",
    "    upper_bound: the upper bound of the time step size\n",
    "    \"\"\"    \n",
    "    d = math.gcd(*schedule_lengths)\n",
    "    delta = d / math.ceil(d/upper_bound)\n",
    "    discrete_schedule_lengths = [s / delta for s in schedule_lengths]\n",
    "    return delta, discrete_schedule_lengths"
   ]
  },
  {
   "cell_type": "code",
   "execution_count": 4,
   "metadata": {
    "collapsed": true
   },
   "outputs": [],
   "source": [
    "def obtain_transition_matrices(n, mu, r11, L, schedule_lengths):\n",
    "    N, Nv = NetworkP(n, mu, r11, L), NetworkPv(n, 0, r11, L)\n",
    "    upper_bound = N.get_time_step_upper_bound()\n",
    "    delta, discrete_schedule_lengths = find_time_step(schedule_lengths, upper_bound)\n",
    "    \n",
    "    N.discretise_transition_matrix(time_step=delta)\n",
    "    P = N.discrete_transition_matrix\n",
    "    \n",
    "    Nv.discretise_transition_matrix(delta)\n",
    "    Pv = Nv.discrete_transition_matrix\n",
    "    \n",
    "\n",
    "    return P, Pv, discrete_schedule_lengths, delta"
   ]
  },
  {
   "cell_type": "code",
   "execution_count": 5,
   "metadata": {
    "collapsed": true
   },
   "outputs": [],
   "source": [
    "def obtain_probability_distributions(n, mu, r11, L, schedule_lengths, stopping_probability = .9999):\n",
    "    P, Pv, discrete_schedule_lengths, delta = obtain_transition_matrices(n, mu, r11, L, schedule_lengths)\n",
    "    \n",
    "    step_counts = [0, 1]\n",
    "    approx_cdf = [0, P[0, -1]]\n",
    "    approx_pdf = [0, P[0, -1]]\n",
    "    transition_matrix = P\n",
    "    step = 1\n",
    "    \n",
    "    while approx_cdf[-1] < stopping_probability:\n",
    "        step += 1\n",
    "        if step % sum(discrete_schedule_lengths) < discrete_schedule_lengths[0]:\n",
    "            transition_matrix = np.matmul(transition_matrix, P)\n",
    "        else:\n",
    "            transition_matrix = np.matmul(transition_matrix, Pv)\n",
    "        step_counts.append(step)\n",
    "        absorption_prob = transition_matrix[0, -1]\n",
    "        approx_cdf.append(absorption_prob)\n",
    "        approx_pdf.append(approx_cdf[-1] - approx_cdf[-2])\n",
    "    \n",
    "    pdf = [p / sum(approx_pdf) for p in approx_pdf]\n",
    "    cdf = np.cumsum(pdf)\n",
    "    time_steps = [s * delta for s in step_counts]\n",
    "    return time_steps, pdf, cdf"
   ]
  },
  {
   "cell_type": "code",
   "execution_count": 6,
   "metadata": {
    "collapsed": true
   },
   "outputs": [],
   "source": [
    "def mean_time_till_deadlock(n, mu, r11, L, schedule_lengths, stopping_probability = .9999):\n",
    "    time_steps, pdf, cdf = obtain_probability_distributions(n, mu, r11, L, schedule_lengths, stopping_probability = .9999)\n",
    "    return sum([step * prob for step, prob in zip(time_steps, pdf)])"
   ]
  },
  {
   "cell_type": "code",
   "execution_count": 7,
   "metadata": {
    "collapsed": true
   },
   "outputs": [],
   "source": [
    "L = 5.0\n",
    "m = 2.0\n",
    "n = 3\n",
    "r11 = 0.5\n",
    "s = 10\n",
    "sv = 5"
   ]
  },
  {
   "cell_type": "code",
   "execution_count": 56,
   "metadata": {
    "collapsed": true
   },
   "outputs": [],
   "source": [
    "ns = [0, 1, 2, 3, 4, 5, 6]"
   ]
  },
  {
   "cell_type": "code",
   "execution_count": 57,
   "metadata": {
    "collapsed": false
   },
   "outputs": [],
   "source": [
    "anal_times = [mean_time_till_deadlock(n, m, r11, L, (s, sv)) for n in ns]"
   ]
  },
  {
   "cell_type": "code",
   "execution_count": 58,
   "metadata": {
    "collapsed": false
   },
   "outputs": [
    {
     "name": "stdout",
     "output_type": "stream",
     "text": [
      "\n"
     ]
    }
   ],
   "source": [
    "sim_times = [mean_time_deadlock_sim(n, m, r11, L, (s, sv)) for n in tqdm_notebook(ns)]"
   ]
  },
  {
   "cell_type": "code",
   "execution_count": 59,
   "metadata": {
    "collapsed": false
   },
   "outputs": [],
   "source": [
    "%matplotlib inline\n",
    "import numpy as np\n",
    "import matplotlib.pyplot as plt\n",
    "import pylab\n",
    "import seaborn as sns\n",
    "sns.set(style=\"whitegrid\")"
   ]
  },
  {
   "cell_type": "code",
   "execution_count": 60,
   "metadata": {
    "collapsed": false
   },
   "outputs": [],
   "source": [
    "times_no_outliers = []\n",
    "for data_series in sim_times:\n",
    "    q75, q25 = np.percentile(data_series, [75 ,25])\n",
    "    iqr = q75 - q25\n",
    "    upper = q75 + (1.5*iqr)\n",
    "    lower = q25 - (1.5*iqr)\n",
    "    new_data = [obs for obs in data_series if obs > lower and obs < upper]\n",
    "    times_no_outliers.append(new_data)"
   ]
  },
  {
   "cell_type": "code",
   "execution_count": 66,
   "metadata": {
    "collapsed": false
   },
   "outputs": [
    {
     "data": {
      "image/png": "[encoded data removed]",
      "text/plain": [
       "<matplotlib.figure.Figure at 0x11a9b4cf8>"
      ]
     },
     "metadata": {},
     "output_type": "display_data"
    }
   ],
   "source": [
    "line_colour = 'darkgreen'\n",
    "plot_colour = 'darkorange'\n",
    "\n",
    "fig, ax = plt.subplots()\n",
    "plt.plot(ns, anal_times, linewidth=2, label='Analytical Mean', color=line_colour)\n",
    "plt.plot([], [], 'r', linewidth=2, label='Simulation Results', color=plot_colour)\n",
    "meanpointprops = dict(marker='D', markeredgecolor='black',\n",
    "                      markerfacecolor=plot_colour)\n",
    "bp = plt.boxplot(sim_times, positions=ns, widths=0.6, meanprops=meanpointprops, meanline=False, showmeans=True, sym='')\n",
    "for median in bp['medians']:\n",
    "    median.set(color=plot_colour, linewidth=2)\n",
    "pylab.setp(bp['boxes'], color=plot_colour)\n",
    "pylab.setp(bp['whiskers'], color=plot_colour)\n",
    "\n",
    "\n",
    "vp = plt.violinplot(times_no_outliers, widths=0.6, positions=ns, showmeans=False, showmedians=False, showextrema=False)\n",
    "pylab.setp(vp['bodies'], color=plot_colour)\n",
    "plt.xlim([min(ns)-1, max(ns)+1])\n",
    "ax.set_xlabel(r'$n$', fontsize=16)\n",
    "ax.set_ylabel(r'$\\omega$', fontsize=16)\n",
    "ax.set_title('Expected Time to Deadlock From State 0', fontsize=20)\n",
    "\n",
    "plt.legend(loc=2, prop={'size':16})\n",
    "plt.savefig('tex/img/mc_sim_vary_n_scheduled_vacations.pdf')"
   ]
  },
  {
   "cell_type": "code",
   "execution_count": null,
   "metadata": {
    "collapsed": false
   },
   "outputs": [],
   "source": []
  },
  {
   "cell_type": "code",
   "execution_count": null,
   "metadata": {
    "collapsed": true
   },
   "outputs": [],
   "source": []
  }
 ],
 "metadata": {
  "kernelspec": {
   "display_name": "Python 3",
   "language": "python",
   "name": "python3"
  },
  "language_info": {
   "codemirror_mode": {
    "name": "ipython",
    "version": 3
   },
   "file_extension": ".py",
   "mimetype": "text/x-python",
   "name": "python",
   "nbconvert_exporter": "python",
   "pygments_lexer": "ipython3",
   "version": "3.5.1"
  }
 },
 "nbformat": 4,
 "nbformat_minor": 0
}
