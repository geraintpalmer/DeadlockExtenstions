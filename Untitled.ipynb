{
 "cells": [
  {
   "cell_type": "code",
   "execution_count": 1,
   "metadata": {
    "collapsed": true
   },
   "outputs": [],
   "source": [
    "from __future__ import division\n",
    "import numpy as np\n",
    "import yaml\n",
    "\n",
    "class Network:\n",
    "    \"\"\"\n",
    "    A class to hold the queueing network object\n",
    "    \"\"\"\n",
    "\n",
    "    def __init__(self, n1, mu1, r11, L1):\n",
    "        \"\"\"\n",
    "        Initialises the Network object\n",
    "\n",
    "            >>> Q = Network(3, 10.0, 0.25, 7.0)\n",
    "            >>> Q.n1\n",
    "            3\n",
    "            >>> Q.mu1\n",
    "            10.0\n",
    "            >>> Q.r11\n",
    "            0.25\n",
    "            >>> Q.L1\n",
    "            7.0\n",
    "            >>> Q.State_Space\n",
    "            [0, 1, 2, 3, 4, -1]\n",
    "        \"\"\"\n",
    "        self.n1 = n1\n",
    "        self.mu1 = mu1\n",
    "        self.r11 = r11\n",
    "        self.L1 = L1\n",
    "        self.State_Space = [(i) for i in range(self.n1+2)] + [-1]\n",
    "        self.write_transition_matrix()\n",
    "        self.discretise_transition_matrix()\n",
    "\n",
    "    def find_transition_rates(self, state1, state2):\n",
    "        \"\"\"\n",
    "        Finds the transition rates for given state transition\n",
    "\n",
    "            Testing all possible types of transitions\n",
    "            >>> Q = Network(3, 10.0, 0.25, 7.0)\n",
    "            >>> Q.find_transition_rates(-1, -1)\n",
    "            0\n",
    "            >>> Q.find_transition_rates(-1, 3)\n",
    "            0\n",
    "            >>> Q.find_transition_rates(1, -1)\n",
    "            0\n",
    "            >>> Q.find_transition_rates(4, -1)\n",
    "            2.5\n",
    "            >>> Q.find_transition_rates(1, 2)\n",
    "            7.0\n",
    "            >>> Q.find_transition_rates(3, 2)\n",
    "            7.5\n",
    "        \"\"\"\n",
    "        if state1 == -1:\n",
    "            return 0\n",
    "        if state2 == -1:\n",
    "            if state1 == self.n1 + 1:\n",
    "                return self.r11*self.mu1\n",
    "            else:\n",
    "                return 0\n",
    "        else:\n",
    "            delta = (state2-state1)\n",
    "            if delta == 1:\n",
    "                if state1<self.n1+1:\n",
    "                    return self.L1\n",
    "                return 0\n",
    "            if delta == -1:\n",
    "                return (1-self.r11)*self.mu1\n",
    "        return 0\n",
    "\n",
    "    def write_transition_matrix(self):\n",
    "        \"\"\"\n",
    "        Writes the transition matrix for the markov chain\n",
    "\n",
    "            >>> Q = Network(3, 10.0, 0.25, 7.0)\n",
    "            >>> Q.write_transition_matrix()\n",
    "            >>> Q.transition_matrix\n",
    "            array([[ -7. ,   7. ,   0. ,   0. ,   0. ,   0. ],\n",
    "                   [  7.5, -14.5,   7. ,   0. ,   0. ,   0. ],\n",
    "                   [  0. ,   7.5, -14.5,   7. ,   0. ,   0. ],\n",
    "                   [  0. ,   0. ,   7.5, -14.5,   7. ,   0. ],\n",
    "                   [  0. ,   0. ,   0. ,   7.5, -10. ,   2.5],\n",
    "                   [  0. ,   0. ,   0. ,   0. ,   0. ,  -0. ]])\n",
    "        \"\"\"\n",
    "        self.transition_matrix = [[self.find_transition_rates(s1, s2) for s2 in self.State_Space] for s1 in self.State_Space]\n",
    "        for i in range(len(self.transition_matrix)):\n",
    "            a = sum(self.transition_matrix[i])\n",
    "            self.transition_matrix[i][i] = -a\n",
    "            self.transition_matrix = np.array(self.transition_matrix)\n",
    "\n",
    "    def discretise_transition_matrix(self):\n",
    "        \"\"\"\n",
    "        Disctetises the transition matrix\n",
    "\n",
    "            >>> Q = Network(3, 10.0, 0.25, 7.0)\n",
    "            >>> Q.write_transition_matrix()\n",
    "            >>> Q.discretise_transition_matrix()\n",
    "            >>> Q.discrete_transition_matrix\n",
    "            array([[ 0.51724138,  0.48275862,  0.        ,  0.        ,  0.        ,\n",
    "                     0.        ],\n",
    "                   [ 0.51724138,  0.        ,  0.48275862,  0.        ,  0.        ,\n",
    "                     0.        ],\n",
    "                   [ 0.        ,  0.51724138,  0.        ,  0.48275862,  0.        ,\n",
    "                     0.        ],\n",
    "                   [ 0.        ,  0.        ,  0.51724138,  0.        ,  0.48275862,\n",
    "                     0.        ],\n",
    "                   [ 0.        ,  0.        ,  0.        ,  0.51724138,  0.31034483,\n",
    "                     0.17241379],\n",
    "                   [ 0.        ,  0.        ,  0.        ,  0.        ,  0.        ,\n",
    "                     1.        ]])\n",
    "        \"\"\"\n",
    "        self.time_step = 1 / max([abs(self.transition_matrix[i][i]) for i in range(len(self.transition_matrix))])\n",
    "        self.discrete_transition_matrix = self.transition_matrix*self.time_step + np.identity(len(self.transition_matrix))\n",
    "\n",
    "    def find_mean_time_to_absorbtion(self):\n",
    "        \"\"\"\n",
    "        Finds the mean time to absorbtion\n",
    "\n",
    "            >>> Q = Network(3, 10.0, 0.25, 7.0)\n",
    "            >>> Q.find_mean_time_to_absorbtion()\n",
    "            >>> Q.mean_steps_to_absorbtion\n",
    "            {'1': 53.625541441066225, '0': 55.696970012494788, '3': 42.665993336109956, '2': 49.334725114535608, '4': 33.449495002082472}\n",
    "            >>> Q.mean_time_to_absorbtion\n",
    "            {'1': 3.6983132028321535, '0': 3.841170345689296, '3': 2.942482299042066, '2': 3.4023948354852145, '4': 2.30686172428155}\n",
    "        \"\"\"\n",
    "        T = self.discrete_transition_matrix[:-1, :-1]\n",
    "        S = np.linalg.inv(np.identity(len(T)) - T)\n",
    "        steps2absorb = [sum([S[i,j] for j in range(len(S))]) for i in range(len(S))]\n",
    "        time2absorb = [s*self.time_step for s in steps2absorb]\n",
    "        self.mean_steps_to_absorbtion = {str(self.State_Space[i]): steps2absorb[i] for i in range(len(steps2absorb))}\n",
    "        self.mean_time_to_absorbtion = {str(self.State_Space[i]): float(time2absorb[i]) for i in range(len(time2absorb))}\n",
    "\n",
    "    def write_results_to_file(self, param):\n",
    "        \"\"\"\n",
    "        Takes the summary statistics and writes them into a .yml file\n",
    "        \"\"\"\n",
    "        results_file = open('%stheoretical_results_%s.yml' % (directory, str(param)), 'w')\n",
    "        results_file.write(yaml.dump(self.mean_time_to_absorbtion, default_flow_style=False))\n",
    "        results_file.close()"
   ]
  },
  {
   "cell_type": "code",
   "execution_count": 2,
   "metadata": {
    "collapsed": true
   },
   "outputs": [],
   "source": [
    "L = 3.0\n",
    "mu = 5.0\n",
    "n = 3\n",
    "r11 = 0.4"
   ]
  },
  {
   "cell_type": "code",
   "execution_count": 4,
   "metadata": {
    "collapsed": false
   },
   "outputs": [
    {
     "data": {
      "text/plain": [
       "array([[-3.,  3.,  0.,  0.,  0.,  0.],\n",
       "       [ 3., -6.,  3.,  0.,  0.,  0.],\n",
       "       [ 0.,  3., -6.,  3.,  0.,  0.],\n",
       "       [ 0.,  0.,  3., -6.,  3.,  0.],\n",
       "       [ 0.,  0.,  0.,  3., -5.,  2.],\n",
       "       [ 0.,  0.,  0.,  0.,  0., -0.]])"
      ]
     },
     "execution_count": 4,
     "metadata": {},
     "output_type": "execute_result"
    }
   ],
   "source": [
    "N = Network(n, mu, r11, L)\n",
    "N.transition_matrix"
   ]
  },
  {
   "cell_type": "code",
   "execution_count": 5,
   "metadata": {
    "collapsed": false
   },
   "outputs": [
    {
     "data": {
      "text/plain": [
       "array([[-3.,  3.,  0.,  0.,  0.,  0.],\n",
       "       [ 0., -3.,  3.,  0.,  0.,  0.],\n",
       "       [ 0.,  0., -3.,  3.,  0.,  0.],\n",
       "       [ 0.,  0.,  0., -3.,  3.,  0.],\n",
       "       [ 0.,  0.,  0.,  0., -0.,  0.],\n",
       "       [ 0.,  0.,  0.,  0.,  0., -0.]])"
      ]
     },
     "execution_count": 5,
     "metadata": {},
     "output_type": "execute_result"
    }
   ],
   "source": [
    "N = Network(n, 0, r11, L)\n",
    "N.transition_matrix"
   ]
  },
  {
   "cell_type": "code",
   "execution_count": null,
   "metadata": {
    "collapsed": true
   },
   "outputs": [],
   "source": []
  }
 ],
 "metadata": {
  "kernelspec": {
   "display_name": "Python 3",
   "language": "python",
   "name": "python3"
  },
  "language_info": {
   "codemirror_mode": {
    "name": "ipython",
    "version": 3
   },
   "file_extension": ".py",
   "mimetype": "text/x-python",
   "name": "python",
   "nbconvert_exporter": "python",
   "pygments_lexer": "ipython3",
   "version": "3.5.1"
  }
 },
 "nbformat": 4,
 "nbformat_minor": 0
}
