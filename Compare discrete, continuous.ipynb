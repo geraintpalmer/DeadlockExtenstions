{
 "cells": [
  {
   "cell_type": "code",
   "execution_count": 20,
   "metadata": {
    "collapsed": true
   },
   "outputs": [],
   "source": [
    "from __future__ import division\n",
    "import numpy as np\n",
    "import math\n",
    "import yaml\n",
    "import matplotlib.pyplot as plt\n",
    "from matplotlib import cm\n",
    "import seaborn as sns\n",
    "from tqdm import tqdm_notebook\n",
    "sns.set_style('whitegrid')\n",
    "%matplotlib inline\n",
    "import copy"
   ]
  },
  {
   "cell_type": "code",
   "execution_count": 21,
   "metadata": {
    "collapsed": true
   },
   "outputs": [],
   "source": [
    "class NetworkP:\n",
    "    \"\"\"\n",
    "    A class to hold the queueing network object\n",
    "    \"\"\"\n",
    "\n",
    "    def __init__(self, n1, mu1, r11, L1):\n",
    "        \"\"\"\n",
    "        Initialises the Network object\n",
    "        \"\"\"\n",
    "        self.n1 = n1\n",
    "        self.mu1 = mu1\n",
    "        self.r11 = r11\n",
    "        self.L1 = L1\n",
    "        self.State_Space = [(i) for i in range(self.n1+2)] + [-1]\n",
    "        self.write_transition_matrix()\n",
    "        self.discretise_transition_matrix()\n",
    "\n",
    "    def find_transition_rates(self, state1, state2):\n",
    "        \"\"\"\n",
    "        Finds the transition rates for given state transition\n",
    "\n",
    "        \"\"\"\n",
    "        if state1 == -1:\n",
    "            return 0\n",
    "        if state2 == -1:\n",
    "            if state1 == self.n1 + 1:\n",
    "                return self.r11*self.mu1\n",
    "            else:\n",
    "                return 0\n",
    "        else:\n",
    "            delta = (state2-state1)\n",
    "            if delta == 1:\n",
    "                if state1<self.n1+1:\n",
    "                    return self.L1\n",
    "                return 0\n",
    "            if delta == -1:\n",
    "                return (1-self.r11)*self.mu1\n",
    "        return 0\n",
    "\n",
    "    def write_transition_matrix(self):\n",
    "        \"\"\"\n",
    "        Writes the transition matrix for the markov chain\n",
    "        \"\"\"\n",
    "        self.transition_matrix = [[self.find_transition_rates(s1, s2) for s2 in self.State_Space] for s1 in self.State_Space]\n",
    "        for i in range(len(self.transition_matrix)):\n",
    "            a = sum(self.transition_matrix[i])\n",
    "            self.transition_matrix[i][i] = -a\n",
    "            self.transition_matrix = np.array(self.transition_matrix)\n",
    "            \n",
    "    def get_time_step_upper_bound(self):\n",
    "        return 1 / max([abs(self.transition_matrix[i][i]) for i in range(len(self.transition_matrix))])\n",
    "        \n",
    "\n",
    "    def discretise_transition_matrix(self, time_step=None):\n",
    "        \"\"\"\n",
    "        Disctetises the transition matrix\n",
    "        \"\"\"\n",
    "        if time_step is None:\n",
    "            self.time_step = 1 / max([abs(self.transition_matrix[i][i]) for i in range(len(self.transition_matrix))])\n",
    "        else:\n",
    "            self.time_step = time_step\n",
    "        self.discrete_transition_matrix = self.transition_matrix*self.time_step + np.identity(len(self.transition_matrix))\n",
    "\n",
    "        \n",
    "class NetworkPv:\n",
    "    \"\"\"\n",
    "    A class to hold the queueing network object\n",
    "    \"\"\"\n",
    "\n",
    "    def __init__(self, n1, mu1, r11, L1):\n",
    "        \"\"\"\n",
    "        Initialises the Network object\n",
    "        \"\"\"\n",
    "        self.n1 = n1\n",
    "        self.mu1 = mu1\n",
    "        self.r11 = r11\n",
    "        self.L1 = L1\n",
    "        self.State_Space = [(i) for i in range(self.n1+2)] + [-1]\n",
    "        self.write_transition_matrix()\n",
    "        self.discretise_transition_matrix()\n",
    "\n",
    "    def find_transition_rates(self, state1, state2):\n",
    "        \"\"\"\n",
    "        Finds the transition rates for given state transition\n",
    "\n",
    "        \"\"\"\n",
    "        if state1 == -1:\n",
    "            return 0\n",
    "        if state2 == -1:\n",
    "            if state1 == self.n1 + 1:\n",
    "                return self.r11*self.mu1\n",
    "            else:\n",
    "                return 0\n",
    "        else:\n",
    "            delta = (state2-state1)\n",
    "            if delta == 1:\n",
    "                if state1<self.n1:\n",
    "                    return self.L1\n",
    "                return 0\n",
    "            if delta == -1:\n",
    "                return (1-self.r11)*self.mu1\n",
    "        return 0\n",
    "\n",
    "    def write_transition_matrix(self):\n",
    "        \"\"\"\n",
    "        Writes the transition matrix for the markov chain\n",
    "        \"\"\"\n",
    "        self.transition_matrix = [[self.find_transition_rates(s1, s2) for s2 in self.State_Space] for s1 in self.State_Space]\n",
    "        for i in range(len(self.transition_matrix)):\n",
    "            a = sum(self.transition_matrix[i])\n",
    "            self.transition_matrix[i][i] = -a\n",
    "            self.transition_matrix = np.array(self.transition_matrix)\n",
    "            \n",
    "    def get_time_step_upper_bound(self):\n",
    "        return 1 / max([abs(self.transition_matrix[i][i]) for i in range(len(self.transition_matrix))])\n",
    "        \n",
    "\n",
    "    def discretise_transition_matrix(self, time_step=None):\n",
    "        \"\"\"\n",
    "        Disctetises the transition matrix\n",
    "        \"\"\"\n",
    "        if time_step is None:\n",
    "            self.time_step = 1 / max([abs(self.transition_matrix[i][i]) for i in range(len(self.transition_matrix))])\n",
    "        else:\n",
    "            self.time_step = time_step\n",
    "        self.discrete_transition_matrix = self.transition_matrix*self.time_step + np.identity(len(self.transition_matrix))\n",
    "\n",
    "\n",
    "        \n",
    "        \n",
    "def find_time_step(schedule_lengths, upper_bound):\n",
    "    \"\"\"\n",
    "    schedule_lengths: tuple of the form (length1, length2)\n",
    "    upper_bound: the upper bound of the time step size\n",
    "    \"\"\"    \n",
    "    d = math.gcd(*schedule_lengths)\n",
    "    delta = d / math.ceil(d/upper_bound)\n",
    "    discrete_schedule_lengths = [s / delta for s in schedule_lengths]\n",
    "    return delta, discrete_schedule_lengths"
   ]
  },
  {
   "cell_type": "code",
   "execution_count": 22,
   "metadata": {
    "collapsed": true
   },
   "outputs": [],
   "source": [
    "def obtain_transition_matrices(n, mu, r11, L, schedule_lengths):\n",
    "    N, Nv = NetworkP(n, mu, r11, L), NetworkPv(n, 0, r11, L)\n",
    "    upper_bound = N.get_time_step_upper_bound()\n",
    "    delta, discrete_schedule_lengths = find_time_step(schedule_lengths, upper_bound)\n",
    "    \n",
    "    N.discretise_transition_matrix(time_step=delta)\n",
    "    P = N.discrete_transition_matrix\n",
    "    \n",
    "    Nv.discretise_transition_matrix(delta)\n",
    "    Pv = Nv.discrete_transition_matrix\n",
    "    \n",
    "\n",
    "    return P, Pv, discrete_schedule_lengths, delta"
   ]
  },
  {
   "cell_type": "code",
   "execution_count": 23,
   "metadata": {
    "collapsed": true
   },
   "outputs": [],
   "source": [
    "def obtain_probability_distributions(n, mu, r11, L, schedule_lengths, stopping_probability = .9999):\n",
    "    P, Pv, discrete_schedule_lengths, delta = obtain_transition_matrices(n, mu, r11, L, schedule_lengths)\n",
    "    \n",
    "    step_counts = [0, 1]\n",
    "    approx_cdf = [0, P[0, -1]]\n",
    "    approx_pdf = [0, P[0, -1]]\n",
    "    transition_matrix = P\n",
    "    step = 1\n",
    "    \n",
    "    while approx_cdf[-1] < stopping_probability:\n",
    "        step += 1\n",
    "        if step % sum(discrete_schedule_lengths) < discrete_schedule_lengths[0]:\n",
    "            transition_matrix = np.matmul(transition_matrix, P)\n",
    "        else:\n",
    "            transition_matrix = np.matmul(transition_matrix, Pv)\n",
    "        step_counts.append(step)\n",
    "        absorption_prob = transition_matrix[0, -1]\n",
    "        approx_cdf.append(absorption_prob)\n",
    "        approx_pdf.append(approx_cdf[-1] - approx_cdf[-2])\n",
    "    \n",
    "    pdf = [p / sum(approx_pdf) for p in approx_pdf]\n",
    "    cdf = np.cumsum(pdf)\n",
    "    time_steps = [s * delta for s in step_counts]\n",
    "    return time_steps, pdf, cdf"
   ]
  },
  {
   "cell_type": "code",
   "execution_count": 24,
   "metadata": {
    "collapsed": true
   },
   "outputs": [],
   "source": [
    "def mean_time_till_deadlock(n, mu, r11, L, schedule_lengths, stopping_probability = .999):\n",
    "    time_steps, pdf, cdf = obtain_probability_distributions(n, mu, r11, L, schedule_lengths, stopping_probability = .9999)\n",
    "    return sum([step * prob for step, prob in zip(time_steps, pdf)])"
   ]
  },
  {
   "cell_type": "code",
   "execution_count": 25,
   "metadata": {
    "collapsed": true
   },
   "outputs": [],
   "source": [
    "n, mu, r11, L = 6, 4, .2, 2\n",
    "s = 10\n",
    "sv = 5"
   ]
  },
  {
   "cell_type": "code",
   "execution_count": 26,
   "metadata": {
    "collapsed": true
   },
   "outputs": [],
   "source": [
    "variables = [0.2, 0.4, 0.6, 0.8, 1.0]\n",
    "\n",
    "time_steps_dict = {}\n",
    "pdf_dict = {}\n",
    "cdf_dict = {}\n",
    "\n",
    "for var in variables:\n",
    "    time_steps_dict[var], pdf_dict[var], cdf_dict[var] = obtain_probability_distributions(n, mu, var, mu, (s, sv), stopping_probability = .9999)"
   ]
  },
  {
   "cell_type": "code",
   "execution_count": 27,
   "metadata": {
    "collapsed": false
   },
   "outputs": [
    {
     "data": {
      "image/png": "[encoded data removed]",
      "text/plain": [
       "<matplotlib.figure.Figure at 0x11be0ae80>"
      ]
     },
     "metadata": {},
     "output_type": "display_data"
    }
   ],
   "source": [
    "plt.figure()\n",
    "colours = [cm.plasma(x) for x in np.linspace(0.1, 0.85, len(variables))]\n",
    "\n",
    "for i in range(len(variables)):\n",
    "    plt.plot(time_steps_dict[variables[i]], cdf_dict[variables[i]], c=colours[i], label=r\"$r_{11} = \" + str(variables[i]) + \"$\")\n",
    "\n",
    "plt.xlabel(\"Time\", fontsize=14)\n",
    "plt.xlim(time_steps_dict[0.2][0], time_steps_dict[0.2][-1])\n",
    "# plt.xlim(0, 520)\n",
    "plt.ylabel(\"Probability of deadlock\", fontsize=\"14\")\n",
    "plt.ylim(0, 1.05)\n",
    "plt.title(\"Cumulative Probability of Reaching Deadlock\", fontsize=16)\n",
    "plt.legend(loc=0, fontsize=14)\n",
    "plt.show()"
   ]
  },
  {
   "cell_type": "markdown",
   "metadata": {},
   "source": [
    "# Matrix Exponential Method"
   ]
  },
  {
   "cell_type": "code",
   "execution_count": 28,
   "metadata": {
    "collapsed": true
   },
   "outputs": [],
   "source": [
    "from scipy import linalg"
   ]
  },
  {
   "cell_type": "code",
   "execution_count": 29,
   "metadata": {
    "collapsed": true
   },
   "outputs": [],
   "source": [
    "n, mu, r11, L = 6, 4, .2, 2\n",
    "s = 10\n",
    "sv = 5"
   ]
  },
  {
   "cell_type": "code",
   "execution_count": 30,
   "metadata": {
    "collapsed": true
   },
   "outputs": [],
   "source": [
    "Q = NetworkP(n, mu, r11, L)\n",
    "Qv = NetworkPv(n, 0, r11, L)"
   ]
  },
  {
   "cell_type": "code",
   "execution_count": 31,
   "metadata": {
    "collapsed": false
   },
   "outputs": [],
   "source": [
    "dt = min(Q.get_time_step_upper_bound(), Qv.get_time_step_upper_bound())"
   ]
  },
  {
   "cell_type": "code",
   "execution_count": 32,
   "metadata": {
    "collapsed": false
   },
   "outputs": [],
   "source": [
    "cdf_d = [0.0]\n",
    "times_d = [0.0]\n",
    "t = 0.0\n",
    "prev_P = copy.deepcopy(Q.discrete_transition_matrix)\n",
    "while cdf_d[-1] < 0.999:\n",
    "    t += dt\n",
    "    times_d.append(t)\n",
    "    if t % (s + sv) <= s:\n",
    "        prev_P = np.matmul(prev_P, Q.discrete_transition_matrix)\n",
    "    else:\n",
    "        prev_P = np.matmul(prev_P, Qv.discrete_transition_matrix)\n",
    "    cdf_d.append(prev_P[0, -1])\n",
    "cdf_dnorm = [i/cdf_d[-1] for i in cdf_d]"
   ]
  },
  {
   "cell_type": "code",
   "execution_count": 33,
   "metadata": {
    "collapsed": false
   },
   "outputs": [],
   "source": [
    "cdf_c = [0.0]\n",
    "times_c = [0.0]\n",
    "t = 0.0\n",
    "prev_P =linalg.expm(Q.transition_matrix*0)\n",
    "while cdf_c[-1] < 0.999:\n",
    "    t += dt\n",
    "    times_c.append(t)\n",
    "    if t % (s + sv) <= s:\n",
    "        prev_P = np.matmul(prev_P, linalg.expm(Q.transition_matrix*dt))\n",
    "    else:\n",
    "        prev_P = np.matmul(prev_P, linalg.expm(Qv.transition_matrix*dt))\n",
    "    cdf_c.append(prev_P[0, -1])\n",
    "cdf_cnorm = [i/cdf_c[-1] for i in cdf_c]"
   ]
  },
  {
   "cell_type": "code",
   "execution_count": 34,
   "metadata": {
    "collapsed": false
   },
   "outputs": [
    {
     "data": {
      "image/png": "[encoded data removed]",
      "text/plain": [
       "<matplotlib.figure.Figure at 0x11bde1e80>"
      ]
     },
     "metadata": {},
     "output_type": "display_data"
    }
   ],
   "source": [
    "plt.plot(times_d, cdf_d, label='Method 1')\n",
    "plt.plot(times_c, cdf_c, label='Method 2')\n",
    "plt.legend(fontsize=14, loc=4)\n",
    "plt.xlabel('Time')\n",
    "plt.ylabel('CDF')\n",
    "plt.savefig(\"tex/img/method1method2_sametimestep.pdf\")"
   ]
  },
  {
   "cell_type": "code",
   "execution_count": 35,
   "metadata": {
    "collapsed": true
   },
   "outputs": [],
   "source": [
    "diffs = [cdf_d[i] - cdf_c[i] for i in range(min(len(times_d), len(times_c)))]"
   ]
  },
  {
   "cell_type": "code",
   "execution_count": 36,
   "metadata": {
    "collapsed": false
   },
   "outputs": [
    {
     "data": {
      "image/png": "[encoded data removed]",
      "text/plain": [
       "<matplotlib.figure.Figure at 0x11bdeef60>"
      ]
     },
     "metadata": {},
     "output_type": "display_data"
    }
   ],
   "source": [
    "plt.plot(times_d, diffs)\n",
    "plt.xlabel('Time')\n",
    "plt.ylabel('Difference')\n",
    "plt.title('Difference in CDF between Method 1 and Methods 2', fontsize=14)\n",
    "plt.savefig(\"tex/img/method1method2_sametimestep_diffs.pdf\")"
   ]
  },
  {
   "cell_type": "code",
   "execution_count": 37,
   "metadata": {
    "collapsed": false
   },
   "outputs": [],
   "source": [
    "ts = [0, 10, 15, 25, 30, 40, 45, 55, 60, 70, 75, 85, 90, 100, 105, 115, 120, 130, 135, 145, 150, 160, 165, 175, 180, 185, 195, 200]\n",
    "ts_act = [0] + [ts[i]-ts[i-1] for i in range(1, len(ts))]\n",
    "\n",
    "cdf_c = [0.0]\n",
    "times_c = [0.0]\n",
    "t = 10\n",
    "period = 's'\n",
    "prev_P =linalg.expm(Q.transition_matrix*0)\n",
    "while cdf_c[-1] < 0.999:\n",
    "    times_c.append(t)\n",
    "    if period == 's':\n",
    "        prev_P = np.matmul(prev_P, linalg.expm(Q.transition_matrix*10))\n",
    "        t += 5\n",
    "        period = 'sv'\n",
    "    else:\n",
    "        prev_P = np.matmul(prev_P, linalg.expm(Qv.transition_matrix*5))\n",
    "        t += 10\n",
    "        period = 's'\n",
    "    cdf_c.append(prev_P[0, -1])\n",
    "cdf_cnorm = [i/cdf_c[-1] for i in cdf_c]"
   ]
  },
  {
   "cell_type": "code",
   "execution_count": 38,
   "metadata": {
    "collapsed": false
   },
   "outputs": [
    {
     "data": {
      "image/png": "[encoded data removed]",
      "text/plain": [
       "<matplotlib.figure.Figure at 0x11bc272b0>"
      ]
     },
     "metadata": {},
     "output_type": "display_data"
    }
   ],
   "source": [
    "plt.plot(times_d, cdf_d, label='Method 1')\n",
    "plt.plot(times_c, cdf_c, label='Method 2')\n",
    "plt.legend(fontsize=14, loc=4)\n",
    "plt.xlabel('Time')\n",
    "plt.ylabel('CDF')\n",
    "plt.savefig(\"tex/img/method1method2_difftimestep.pdf\")"
   ]
  },
  {
   "cell_type": "code",
   "execution_count": null,
   "metadata": {
    "collapsed": true
   },
   "outputs": [],
   "source": []
  }
 ],
 "metadata": {
  "kernelspec": {
   "display_name": "Python 3",
   "language": "python",
   "name": "python3"
  },
  "language_info": {
   "codemirror_mode": {
    "name": "ipython",
    "version": 3
   },
   "file_extension": ".py",
   "mimetype": "text/x-python",
   "name": "python",
   "nbconvert_exporter": "python",
   "pygments_lexer": "ipython3",
   "version": "3.5.1"
  }
 },
 "nbformat": 4,
 "nbformat_minor": 0
}
