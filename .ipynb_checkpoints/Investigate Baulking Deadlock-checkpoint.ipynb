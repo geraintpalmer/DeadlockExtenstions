{
 "cells": [
  {
   "cell_type": "code",
   "execution_count": 1,
   "metadata": {
    "collapsed": true
   },
   "outputs": [],
   "source": [
    "import numpy as np\n",
    "\n",
    "class Network:\n",
    "    \"\"\"\n",
    "    A class to hold the queueing network object\n",
    "    \"\"\"\n",
    "\n",
    "    def __init__(self, n1, mu1, r11, L1, B1):\n",
    "        \"\"\"\n",
    "        Initialises the Network object\n",
    "        \"\"\"\n",
    "        self.n1 = n1\n",
    "        self.mu1 = mu1\n",
    "        self.r11 = r11\n",
    "        self.L1 = L1\n",
    "        self.B1 = B1\n",
    "        self.State_Space = [(i) for i in range(self.n1+2)] + [-1]\n",
    "        self.write_transition_matrix()\n",
    "        self.discretise_transition_matrix()\n",
    "\n",
    "    def find_transition_rates(self, state1, state2):\n",
    "        \"\"\"\n",
    "        Finds the transition rates for given state transition\n",
    "        \"\"\"\n",
    "        if state1 == -1:\n",
    "            return 0\n",
    "        if state2 == -1:\n",
    "            if state1 == self.n1 + 1:\n",
    "                return self.r11*self.mu1\n",
    "            else:\n",
    "                return 0\n",
    "        else:\n",
    "            delta = (state2-state1)\n",
    "            if delta == 1:\n",
    "                if 0<state1<self.n1+1:\n",
    "                    return self.L1*self.B1/(state1)\n",
    "                else:\n",
    "                    return self.L1\n",
    "                return 0\n",
    "            if delta == -1:\n",
    "                return (1-self.r11)*self.mu1\n",
    "        return 0\n",
    "\n",
    "    def write_transition_matrix(self):\n",
    "        \"\"\"\n",
    "        Writes the transition matrix for the markov chain\n",
    "        \"\"\"\n",
    "        self.transition_matrix = [[self.find_transition_rates(s1, s2) for s2 in self.State_Space] for s1 in self.State_Space]\n",
    "        for i in range(len(self.transition_matrix)):\n",
    "            a = sum(self.transition_matrix[i])\n",
    "            self.transition_matrix[i][i] = -a\n",
    "            self.transition_matrix = np.array(self.transition_matrix)\n",
    "\n",
    "    def discretise_transition_matrix(self):\n",
    "        \"\"\"\n",
    "        Disctetises the transition matrix\n",
    "        \"\"\"\n",
    "        self.time_step = 1 / max([abs(self.transition_matrix[i][i]) for i in range(len(self.transition_matrix))])\n",
    "        self.discrete_transition_matrix = self.transition_matrix*self.time_step + np.identity(len(self.transition_matrix))\n",
    "\n",
    "    def find_mean_time_to_absorbtion(self):\n",
    "        \"\"\"\n",
    "        Finds the mean time to absorbtion\n",
    "        \"\"\"\n",
    "        T = self.discrete_transition_matrix[:-1, :-1]\n",
    "        S = np.linalg.inv(np.identity(len(T)) - T)\n",
    "        steps2absorb = [sum([S[i,j] for j in range(len(S))]) for i in range(len(S))]\n",
    "        time2absorb = [s*self.time_step for s in steps2absorb]\n",
    "        self.mean_steps_to_absorbtion = {str(self.State_Space[i]): steps2absorb[i] for i in range(len(steps2absorb))}\n",
    "        self.mean_time_to_absorbtion = {str(self.State_Space[i]): float(time2absorb[i]) for i in range(len(time2absorb))}"
   ]
  },
  {
   "cell_type": "code",
   "execution_count": 2,
   "metadata": {
    "collapsed": true
   },
   "outputs": [],
   "source": [
    "def analytical_time_to_deadlock(Lambda, mu, n, r11, beta):\n",
    "    N = Network(n, mu, r11, Lambda, beta)\n",
    "    N.find_mean_time_to_absorbtion()\n",
    "    return N.mean_time_to_absorbtion['0']"
   ]
  },
  {
   "cell_type": "code",
   "execution_count": 8,
   "metadata": {
    "collapsed": false
   },
   "outputs": [],
   "source": [
    "import ciw\n",
    "from tqdm import tqdm_notebook"
   ]
  },
  {
   "cell_type": "code",
   "execution_count": 4,
   "metadata": {
    "collapsed": true
   },
   "outputs": [],
   "source": [
    "def baulkingprobability(N, beta=0.5):\n",
    "    if N == 0:\n",
    "        p = 0.0\n",
    "    else:\n",
    "        p = 1 - beta / N\n",
    "    return p"
   ]
  },
  {
   "cell_type": "code",
   "execution_count": 5,
   "metadata": {
    "collapsed": false
   },
   "outputs": [],
   "source": [
    "def simulate_time_to_deadlock(Lambda, mu, n, r11, beta, seed=0):\n",
    "    \n",
    "    def balk_func(N):\n",
    "        return baulkingprobability(N, beta=beta)\n",
    "    \n",
    "    params = {\n",
    "        \"Arrival_distributions\": [[\"Exponential\", Lambda]],\n",
    "        \"Service_distributions\": [[\"Exponential\", mu]],\n",
    "        \"Transition_matrices\": [[r11]],\n",
    "        \"Queue_capacities\": [n],\n",
    "        \"Number_of_servers\": [1],\n",
    "        \"Baulking_functions\": [balk_func]\n",
    "    }\n",
    "    \n",
    "    ciw.seed(seed)\n",
    "    N = ciw.create_network(params)\n",
    "    Q = ciw.Simulation(N, deadlock_detector=\"StateDigraph\")\n",
    "    Q.simulate_until_deadlock()\n",
    "    return Q.times_to_deadlock[((0, 0), )]"
   ]
  },
  {
   "cell_type": "code",
   "execution_count": 12,
   "metadata": {
    "collapsed": false
   },
   "outputs": [],
   "source": [
    "analytical_times = [analytical_time_to_deadlock(3.0, 3.0, 2, 0.6, b) for b in [0.1, 0.2, 0.3, 0.4, 0.5, 0.6, 0.7, 0.8, 0.9, 1.0]]"
   ]
  },
  {
   "cell_type": "code",
   "execution_count": 11,
   "metadata": {
    "collapsed": false
   },
   "outputs": [
    {
     "name": "stdout",
     "output_type": "stream",
     "text": [
      "\n"
     ]
    }
   ],
   "source": [
    "betas = [0.1, 0.2, 0.3, 0.4, 0.5, 0.6, 0.7, 0.8, 0.9, 1.0]\n",
    "times = []\n",
    "for b in tqdm_notebook(betas):\n",
    "    times.append([])\n",
    "    for i in tqdm_notebook(range(10000)):\n",
    "        times[-1].append(simulate_time_to_deadlock(3.0, 3.0, 2, 0.6, b, seed=i))"
   ]
  },
  {
   "cell_type": "code",
   "execution_count": 33,
   "metadata": {
    "collapsed": false
   },
   "outputs": [],
   "source": [
    "%matplotlib inline\n",
    "import numpy as np"
   ]
  },
  {
   "cell_type": "code",
   "execution_count": 34,
   "metadata": {
    "collapsed": true
   },
   "outputs": [],
   "source": [
    "times_no_outliers = []\n",
    "for data_series in times:\n",
    "    q75, q25 = np.percentile(data_series, [75 ,25])\n",
    "    iqr = q75 - q25\n",
    "    upper = q75 + (1.5*iqr)\n",
    "    lower = q25 - (1.5*iqr)\n",
    "    new_data = [obs for obs in data_series if obs > lower and obs < upper]\n",
    "    times_no_outliers.append(new_data)"
   ]
  },
  {
   "cell_type": "code",
   "execution_count": 35,
   "metadata": {
    "collapsed": true
   },
   "outputs": [],
   "source": [
    "import matplotlib.pyplot as plt\n",
    "import pylab\n",
    "import seaborn as sns\n",
    "sns.set(style=\"whitegrid\")"
   ]
  },
  {
   "cell_type": "code",
   "execution_count": 41,
   "metadata": {
    "collapsed": false
   },
   "outputs": [
    {
     "data": {
      "image/png": "[encoded data removed]",
      "text/plain": [
       "<matplotlib.figure.Figure at 0x1199abdd8>"
      ]
     },
     "metadata": {},
     "output_type": "display_data"
    }
   ],
   "source": [
    "line_colour = 'darkgreen'\n",
    "plot_colour = 'darkorange'\n",
    "\n",
    "fig, ax = plt.subplots()\n",
    "plt.plot(betas, analytical_times, linewidth=2, label='Analytical Mean', color=line_colour)\n",
    "plt.plot([], [], 'r', linewidth=2, label='Simulation Results', color=plot_colour)\n",
    "meanpointprops = dict(marker='D', markeredgecolor='black',\n",
    "                      markerfacecolor=plot_colour)\n",
    "bp = plt.boxplot(times, positions=betas, widths=0.05, meanprops=meanpointprops, meanline=False, showmeans=True, sym='')\n",
    "for median in bp['medians']:\n",
    "    median.set(color=plot_colour, linewidth=2)\n",
    "pylab.setp(bp['boxes'], color=plot_colour)\n",
    "pylab.setp(bp['whiskers'], color=plot_colour)\n",
    "\n",
    "\n",
    "vp = plt.violinplot(times_no_outliers, widths=0.066, positions=betas, showmeans=False, showmedians=False, showextrema=False)\n",
    "pylab.setp(vp['bodies'], color=plot_colour)\n",
    "plt.xlim([0, 1.1])\n",
    "ax.set_xlabel(r'$\\beta$', fontsize=16)\n",
    "ax.set_ylabel(r'$\\omega$', fontsize=16)\n",
    "ax.set_title('Expected Time to Deadlock From State 0', fontsize=20)\n",
    "\n",
    "plt.legend(loc=1, prop={'size':16})\n",
    "plt.savefig(\"vary_beta.pdf\")"
   ]
  },
  {
   "cell_type": "code",
   "execution_count": null,
   "metadata": {
    "collapsed": true
   },
   "outputs": [],
   "source": []
  }
 ],
 "metadata": {
  "kernelspec": {
   "display_name": "Python 3",
   "language": "python",
   "name": "python3"
  },
  "language_info": {
   "codemirror_mode": {
    "name": "ipython",
    "version": 3
   },
   "file_extension": ".py",
   "mimetype": "text/x-python",
   "name": "python",
   "nbconvert_exporter": "python",
   "pygments_lexer": "ipython3",
   "version": "3.5.1"
  }
 },
 "nbformat": 4,
 "nbformat_minor": 0
}
