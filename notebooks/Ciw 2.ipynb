{
 "cells": [
  {
   "cell_type": "code",
   "execution_count": 122,
   "metadata": {
    "collapsed": true
   },
   "outputs": [],
   "source": [
    "import ciw\n",
    "from numpy import mean\n",
    "import tqdm"
   ]
  },
  {
   "cell_type": "code",
   "execution_count": 123,
   "metadata": {
    "collapsed": true
   },
   "outputs": [],
   "source": [
    "def baulkingprobability(N, beta=0.5):\n",
    "    if N == 0:\n",
    "        p = 0.0\n",
    "    else:\n",
    "        p = 1 - beta / N\n",
    "    return p"
   ]
  },
  {
   "cell_type": "code",
   "execution_count": 124,
   "metadata": {
    "collapsed": false
   },
   "outputs": [
    {
     "data": {
      "text/plain": [
       "0.5"
      ]
     },
     "execution_count": 124,
     "metadata": {},
     "output_type": "execute_result"
    }
   ],
   "source": [
    "baulkingprobability(1)"
   ]
  },
  {
   "cell_type": "code",
   "execution_count": 125,
   "metadata": {
    "collapsed": false
   },
   "outputs": [],
   "source": [
    "params = {\n",
    "    \"Arrival_distributions\": [[\"Exponential\", 5.0]],\n",
    "    \"Service_distributions\": [[\"Exponential\", 1.0]],\n",
    "    \"Transition_matrices\":[[0.7]],\n",
    "    \"Queue_capacities\": [3],\n",
    "    \"Number_of_servers\":[1],\n",
    "    \"Baulking_functions\":[baulkingprobability]\n",
    "\n",
    "}"
   ]
  },
  {
   "cell_type": "code",
   "execution_count": 126,
   "metadata": {
    "collapsed": false
   },
   "outputs": [
    {
     "data": {
      "text/plain": [
       "{'Arrival_distributions': [['Exponential', 5.0]],\n",
       " 'Baulking_functions': [<function __main__.baulkingprobability>],\n",
       " 'Number_of_servers': [1],\n",
       " 'Queue_capacities': [3],\n",
       " 'Service_distributions': [['Exponential', 1.0]],\n",
       " 'Transition_matrices': [[0.7]]}"
      ]
     },
     "execution_count": 126,
     "metadata": {},
     "output_type": "execute_result"
    }
   ],
   "source": [
    "params"
   ]
  },
  {
   "cell_type": "code",
   "execution_count": 67,
   "metadata": {
    "collapsed": false
   },
   "outputs": [],
   "source": [
    "def simulate_time_to_deadkock(seed=0):\n",
    "    ciw.seed(seed)\n",
    "    N = ciw.create_network(params)\n",
    "    Q = ciw.Simulation(N, deadlock_detector=\"StateDigraph\")\n",
    "    Q.simulate_until_deadlock()\n",
    "    return Q.times_to_deadlock[((0, 0),)]"
   ]
  },
  {
   "cell_type": "code",
   "execution_count": 8,
   "metadata": {
    "collapsed": false
   },
   "outputs": [
    {
     "data": {
      "text/plain": [
       "4.089715486433954"
      ]
     },
     "execution_count": 8,
     "metadata": {},
     "output_type": "execute_result"
    }
   ],
   "source": [
    "simulate_time_to_deadkock(0)"
   ]
  },
  {
   "cell_type": "code",
   "execution_count": 23,
   "metadata": {
    "collapsed": false
   },
   "outputs": [
    {
     "data": {
      "text/plain": [
       "2.76735184824269"
      ]
     },
     "execution_count": 23,
     "metadata": {},
     "output_type": "execute_result"
    }
   ],
   "source": [
    "simulate_time_to_deadkock(10)"
   ]
  },
  {
   "cell_type": "code",
   "execution_count": 10,
   "metadata": {
    "collapsed": false
   },
   "outputs": [
    {
     "name": "stderr",
     "output_type": "stream",
     "text": [
      "100%|████████████████████████████████████| 10000/10000 [05:02<00:00, 33.10it/s]\n"
     ]
    }
   ],
   "source": [
    "c"
   ]
  },
  {
   "cell_type": "code",
   "execution_count": 24,
   "metadata": {
    "collapsed": false
   },
   "outputs": [
    {
     "data": {
      "text/plain": [
       "5.1368252608085054"
      ]
     },
     "execution_count": 24,
     "metadata": {},
     "output_type": "execute_result"
    }
   ],
   "source": [
    "mean(times)"
   ]
  },
  {
   "cell_type": "code",
   "execution_count": 43,
   "metadata": {
    "collapsed": true
   },
   "outputs": [],
   "source": [
    "def simulate_time_to_deadlock(seed=0, beta=.5, L1=1.0):\n",
    "    \n",
    "    def balk_func(N):\n",
    "        return baulkingprobability(N, beta=beta)\n",
    "    \n",
    "    params = {\n",
    "        \"Arrival_distributions\": [[\"Exponential\", L1]],\n",
    "        \"Service_distributions\": [[\"Exponential\", 1]],\n",
    "        \"Transition_matrices\": [[.1]],\n",
    "        \"Queue_capacities\": [3],\n",
    "        \"Number_of_servers\": [1],\n",
    "        \"Baulking_functions\": [balk_func]\n",
    "    }\n",
    "    \n",
    "    ciw.seed(seed)\n",
    "    N = ciw.create_network(params)\n",
    "    Q = ciw.Simulation(N, deadlock_detector=\"StateDigraph\")\n",
    "    Q.simulate_until_deadlock()\n",
    "    return Q.times_to_deadlock[((0, 0), )]"
   ]
  },
  {
   "cell_type": "code",
   "execution_count": 44,
   "metadata": {
    "collapsed": true
   },
   "outputs": [],
   "source": [
    "import matplotlib.pyplot as plt\n",
    "%matplotlib inline"
   ]
  },
  {
   "cell_type": "code",
   "execution_count": 45,
   "metadata": {
    "collapsed": false
   },
   "outputs": [],
   "source": [
    "def mean_time_to_deadlock(beta, L1=5.0):\n",
    "    times = []\n",
    "    for seed in tqdm.tqdm(range(500)):\n",
    "        times.append(simulate_time_to_deadlock(seed, beta=beta, L1=L1))\n",
    "    return mean(times)"
   ]
  },
  {
   "cell_type": "code",
   "execution_count": 20,
   "metadata": {
    "collapsed": false
   },
   "outputs": [
    {
     "name": "stderr",
     "output_type": "stream",
     "text": [
      "100%|████████████████████████████████████| 10000/10000 [05:06<00:00, 32.67it/s]\n"
     ]
    }
   ],
   "source": [
    "times = [ ]\n",
    "for seed in tqdm.tqdm(range(10000)):\n",
    "    times.append(simulate_time_to_deadkock(seed))"
   ]
  },
  {
   "cell_type": "code",
   "execution_count": 35,
   "metadata": {
    "collapsed": false
   },
   "outputs": [
    {
     "name": "stderr",
     "output_type": "stream",
     "text": [
      "100%|████████████████████████████████████████| 500/500 [00:23<00:00, 21.57it/s]\n"
     ]
    },
    {
     "data": {
      "text/plain": [
       "7.4337907291107221"
      ]
     },
     "execution_count": 35,
     "metadata": {},
     "output_type": "execute_result"
    }
   ],
   "source": [
    "mean_time_to_deadlock(.5)"
   ]
  },
  {
   "cell_type": "code",
   "execution_count": 46,
   "metadata": {
    "collapsed": false
   },
   "outputs": [
    {
     "name": "stderr",
     "output_type": "stream",
     "text": [
      "100%|████████████████████████████████████████| 500/500 [42:24<00:00,  6.25s/it]\n",
      "100%|████████████████████████████████████████| 500/500 [08:05<00:00,  1.10s/it]\n",
      "100%|████████████████████████████████████████| 500/500 [03:38<00:00,  2.29it/s]\n",
      "100%|████████████████████████████████████████| 500/500 [01:53<00:00,  4.14it/s]\n",
      "100%|████████████████████████████████████████| 500/500 [01:49<00:00,  4.92it/s]\n",
      "100%|████████████████████████████████████████| 500/500 [01:22<00:00,  4.31it/s]\n",
      "100%|████████████████████████████████████████| 500/500 [01:04<00:00,  7.74it/s]\n",
      "100%|████████████████████████████████████████| 500/500 [00:58<00:00,  8.60it/s]\n",
      "100%|████████████████████████████████████████| 500/500 [00:26<00:00, 18.59it/s]\n",
      "100%|████████████████████████████████████████| 500/500 [00:33<00:00, 15.00it/s]\n",
      "100%|████████████████████████████████████████| 500/500 [27:57<00:00,  2.56s/it]\n",
      "100%|████████████████████████████████████████| 500/500 [05:33<00:00,  1.46it/s]\n",
      "100%|████████████████████████████████████████| 500/500 [02:41<00:00,  3.38it/s]\n",
      "100%|████████████████████████████████████████| 500/500 [01:49<00:00,  2.41it/s]\n",
      "100%|████████████████████████████████████████| 500/500 [01:17<00:00,  6.46it/s]\n",
      "100%|████████████████████████████████████████| 500/500 [01:09<00:00,  7.23it/s]\n",
      "100%|████████████████████████████████████████| 500/500 [01:03<00:00,  7.07it/s]\n",
      "100%|████████████████████████████████████████| 500/500 [00:51<00:00,  9.78it/s]\n",
      "100%|████████████████████████████████████████| 500/500 [00:48<00:00, 10.39it/s]\n",
      "100%|████████████████████████████████████████| 500/500 [00:44<00:00, 11.13it/s]\n",
      "100%|████████████████████████████████████████| 500/500 [18:59<00:00,  2.20s/it]\n",
      "100%|████████████████████████████████████████| 500/500 [04:37<00:00,  3.74it/s]\n",
      "100%|████████████████████████████████████████| 500/500 [02:28<00:00,  3.42it/s]\n",
      "100%|████████████████████████████████████████| 500/500 [01:33<00:00,  5.23it/s]\n",
      "100%|████████████████████████████████████████| 500/500 [01:17<00:00,  6.47it/s]\n",
      "100%|████████████████████████████████████████| 500/500 [01:05<00:00,  7.59it/s]\n",
      "100%|████████████████████████████████████████| 500/500 [00:57<00:00,  8.63it/s]\n",
      "100%|████████████████████████████████████████| 500/500 [00:51<00:00,  9.70it/s]\n",
      "100%|████████████████████████████████████████| 500/500 [00:49<00:00, 13.04it/s]\n",
      "100%|████████████████████████████████████████| 500/500 [00:47<00:00, 13.38it/s]\n",
      "100%|████████████████████████████████████████| 500/500 [15:28<00:00,  1.93s/it]\n",
      "100%|████████████████████████████████████████| 500/500 [04:09<00:00,  2.44it/s]\n",
      "100%|████████████████████████████████████████| 500/500 [02:31<00:00,  3.78it/s]\n",
      "100%|████████████████████████████████████████| 500/500 [01:40<00:00,  4.97it/s]\n",
      "100%|████████████████████████████████████████| 500/500 [01:23<00:00,  6.36it/s]\n",
      "100%|████████████████████████████████████████| 500/500 [01:13<00:00,  6.78it/s]\n",
      "100%|████████████████████████████████████████| 500/500 [01:06<00:00,  7.38it/s]\n",
      "100%|████████████████████████████████████████| 500/500 [00:58<00:00,  7.79it/s]\n",
      "100%|████████████████████████████████████████| 500/500 [00:57<00:00,  9.11it/s]\n",
      "100%|████████████████████████████████████████| 500/500 [00:51<00:00,  9.08it/s]\n",
      "100%|████████████████████████████████████████| 500/500 [14:00<00:00,  1.06it/s]\n",
      "100%|████████████████████████████████████████| 500/500 [03:56<00:00,  2.08it/s]\n",
      "100%|████████████████████████████████████████| 500/500 [02:17<00:00,  3.65it/s]\n",
      "100%|████████████████████████████████████████| 500/500 [01:49<00:00,  4.57it/s]\n",
      "100%|████████████████████████████████████████| 500/500 [01:29<00:00,  5.59it/s]\n",
      "100%|████████████████████████████████████████| 500/500 [01:13<00:00,  2.53it/s]\n",
      "100%|████████████████████████████████████████| 500/500 [01:12<00:00,  6.87it/s]\n",
      "100%|████████████████████████████████████████| 500/500 [00:55<00:00,  8.98it/s]\n",
      "100%|████████████████████████████████████████| 500/500 [01:00<00:00,  8.30it/s]\n",
      "100%|████████████████████████████████████████| 500/500 [00:55<00:00,  9.02it/s]\n",
      "100%|████████████████████████████████████████| 500/500 [11:04<00:00,  1.21it/s]\n",
      "100%|████████████████████████████████████████| 500/500 [03:27<00:00,  2.08it/s]\n",
      "100%|████████████████████████████████████████| 500/500 [02:11<00:00,  4.42it/s]\n",
      "100%|████████████████████████████████████████| 500/500 [01:46<00:00,  4.72it/s]\n",
      "100%|████████████████████████████████████████| 500/500 [01:16<00:00,  6.53it/s]\n",
      "100%|████████████████████████████████████████| 500/500 [01:11<00:00,  6.96it/s]\n",
      "100%|████████████████████████████████████████| 500/500 [01:01<00:00,  7.50it/s]\n",
      "100%|████████████████████████████████████████| 500/500 [00:59<00:00, 10.07it/s]\n",
      "100%|████████████████████████████████████████| 500/500 [00:56<00:00,  9.61it/s]\n",
      "100%|████████████████████████████████████████| 500/500 [00:54<00:00,  9.22it/s]\n"
     ]
    }
   ],
   "source": [
    "betas = [0.1, .2, .3, .4, .5, .6, .7, .8, .9, 1]\n",
    "times_1 = [mean_time_to_deadlock(beta=beta, L1=4) for beta in betas]\n",
    "times_2 = [mean_time_to_deadlock(beta=beta, L1=5) for beta in betas]\n",
    "times_3 = [mean_time_to_deadlock(beta=beta, L1=6) for beta in betas]\n",
    "times_4 = [mean_time_to_deadlock(beta=beta, L1=7) for beta in betas]\n",
    "times_5 = [mean_time_to_deadlock(beta=beta, L1=8) for beta in betas]\n",
    "times_6 = [mean_time_to_deadlock(beta=beta, L1=9) for beta in betas]"
   ]
  },
  {
   "cell_type": "code",
   "execution_count": 47,
   "metadata": {
    "collapsed": false
   },
   "outputs": [
    {
     "data": {
      "image/png": "[encoded data removed]",
      "text/plain": [
       "<matplotlib.figure.Figure at 0x21670c37f0>"
      ]
     },
     "metadata": {},
     "output_type": "display_data"
    }
   ],
   "source": [
    "plt.figure()\n",
    "plt.plot(betas, times_1, label = \"4\")\n",
    "plt.plot(betas, times_2, label = \"5\")\n",
    "plt.plot(betas, times_3, label = \"6\")\n",
    "plt.plot(betas, times_4, label = \"7\")\n",
    "plt.plot(betas, times_5, label = \"8\")\n",
    "plt.plot(betas, times_6, label = \"9\")\n",
    "plt.xlabel(\"$\\\\beta$\")\n",
    "plt.ylabel(\"Time to deadlock\")\n",
    "plt.legend();"
   ]
  },
  {
   "cell_type": "raw",
   "metadata": {},
   "source": []
  },
  {
   "cell_type": "code",
   "execution_count": 144,
   "metadata": {
    "collapsed": false
   },
   "outputs": [],
   "source": [
    " params = {\n",
    "... 'Arrival_distributions': [[\"Exponential\", 1.0]],\n",
    "... 'Queue_capacities': [3],\n",
    "... 'Service_distributions': [[\"Exponential\", 30.0]],\n",
    "... 'Transition_matrices': [[0.1]],\n",
    "... 'Number_of_servers':['my_special_schedule_01'],\n",
    "... 'my_special_schedule_01':[[10, 1], [15, 0]],\n",
    "... }\n"
   ]
  },
  {
   "cell_type": "code",
   "execution_count": 145,
   "metadata": {
    "collapsed": false
   },
   "outputs": [
    {
     "data": {
      "text/plain": [
       "<ciw.network.Network at 0x21676a00b8>"
      ]
     },
     "execution_count": 145,
     "metadata": {},
     "output_type": "execute_result"
    }
   ],
   "source": [
    "ciw.create_network(params)"
   ]
  },
  {
   "cell_type": "code",
   "execution_count": 146,
   "metadata": {
    "collapsed": false
   },
   "outputs": [],
   "source": [
    "def simulate_time_to_deadlock(seed=0):\n",
    "    ciw.seed(seed)\n",
    "    N = ciw.create_network(params)\n",
    "    Q = ciw.Simulation(N, deadlock_detector=\"StateDigraph\")\n",
    "    Q.simulate_until_deadlock()\n",
    "    return Q.times_to_deadlock[((0, 0),)]"
   ]
  },
  {
   "cell_type": "code",
   "execution_count": 147,
   "metadata": {
    "collapsed": false
   },
   "outputs": [
    {
     "data": {
      "text/plain": [
       "180.13579691541463"
      ]
     },
     "execution_count": 147,
     "metadata": {},
     "output_type": "execute_result"
    }
   ],
   "source": [
    "simulate_time_to_deadlock(0)"
   ]
  },
  {
   "cell_type": "code",
   "execution_count": 116,
   "metadata": {
    "collapsed": false
   },
   "outputs": [
    {
     "ename": "NameError",
     "evalue": "name 'params_dict' is not defined",
     "output_type": "error",
     "traceback": [
      "\u001b[1;31m---------------------------------------------------------------------------\u001b[0m",
      "\u001b[1;31mNameError\u001b[0m                                 Traceback (most recent call last)",
      "\u001b[1;32m<ipython-input-116-63923830c06f>\u001b[0m in \u001b[0;36m<module>\u001b[1;34m()\u001b[0m\n\u001b[0;32m      2\u001b[0m \u001b[1;33m\u001b[0m\u001b[0m\n\u001b[0;32m      3\u001b[0m \u001b[1;32mfor\u001b[0m \u001b[0mi\u001b[0m \u001b[1;32min\u001b[0m \u001b[0mrange\u001b[0m\u001b[1;33m(\u001b[0m\u001b[1;36m500\u001b[0m\u001b[1;33m)\u001b[0m\u001b[1;33m:\u001b[0m\u001b[1;33m\u001b[0m\u001b[0m\n\u001b[1;32m----> 4\u001b[1;33m     \u001b[0mN\u001b[0m \u001b[1;33m=\u001b[0m \u001b[0mciw\u001b[0m\u001b[1;33m.\u001b[0m\u001b[0mcreate_network\u001b[0m\u001b[1;33m(\u001b[0m\u001b[0mparams_dict\u001b[0m\u001b[1;33m)\u001b[0m\u001b[1;33m\u001b[0m\u001b[0m\n\u001b[0m\u001b[0;32m      5\u001b[0m     \u001b[0mQ\u001b[0m \u001b[1;33m=\u001b[0m \u001b[0mciw\u001b[0m\u001b[1;33m.\u001b[0m\u001b[0mSimulation\u001b[0m\u001b[1;33m(\u001b[0m\u001b[0mN\u001b[0m\u001b[1;33m,\u001b[0m \u001b[0mdeadlock_detector\u001b[0m\u001b[1;33m=\u001b[0m\u001b[1;34m'StateDigraph'\u001b[0m\u001b[1;33m)\u001b[0m\u001b[1;33m\u001b[0m\u001b[0m\n\u001b[0;32m      6\u001b[0m     \u001b[0mQ\u001b[0m\u001b[1;33m.\u001b[0m\u001b[0msimulate_until_deadlock\u001b[0m\u001b[1;33m(\u001b[0m\u001b[1;33m)\u001b[0m\u001b[1;33m\u001b[0m\u001b[0m\n",
      "\u001b[1;31mNameError\u001b[0m: name 'params_dict' is not defined"
     ]
    }
   ],
   "source": [
    "deadlock_time = []\n",
    "\n",
    "for i in range(500):\n",
    "    N = ciw.create_network(params_dict)\n",
    "    Q = ciw.Simulation(N, deadlock_detector='StateDigraph')\n",
    "    Q.simulate_until_deadlock()\n",
    "    deadlock_time.append(Q.times_to_deadlock[((0, 0),)])"
   ]
  },
  {
   "cell_type": "code",
   "execution_count": 115,
   "metadata": {
    "collapsed": true
   },
   "outputs": [],
   "source": [
    "def simulate_time_to_deadlock(seed=0, L1=1.0):\n",
    "    \n",
    "    params = {\n",
    "        \"Arrival_distributions\": [[\"Exponential\", L1]],\n",
    "        \"Service_distributions\": [[\"Exponential\", 1]],\n",
    "        \"Transition_matrices\": [[.1]],\n",
    "        \"Queue_capacities\": [3],\n",
    "        \"Number_of_servers\": [1],\n",
    "        \n",
    "    }\n",
    "    \n",
    "    ciw.seed(seed)\n",
    "    N = ciw.create_network(params)\n",
    "    Q = ciw.Simulation(N, deadlock_detector=\"StateDigraph\")\n",
    "    Q.simulate_until_deadlock()\n",
    "    return Q.times_to_deadlock[((0, 0), )]"
   ]
  },
  {
   "cell_type": "code",
   "execution_count": null,
   "metadata": {
    "collapsed": true
   },
   "outputs": [],
   "source": []
  }
 ],
 "metadata": {
  "kernelspec": {
   "display_name": "Python 3",
   "language": "python",
   "name": "python3"
  },
  "language_info": {
   "codemirror_mode": {
    "name": "ipython",
    "version": 3
   },
   "file_extension": ".py",
   "mimetype": "text/x-python",
   "name": "python",
   "nbconvert_exporter": "python",
   "pygments_lexer": "ipython3",
   "version": "3.5.1"
  }
 },
 "nbformat": 4,
 "nbformat_minor": 0
}
