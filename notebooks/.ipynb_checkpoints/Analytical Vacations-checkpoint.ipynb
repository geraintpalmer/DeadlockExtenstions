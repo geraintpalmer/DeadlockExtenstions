{
 "cells": [
  {
   "cell_type": "code",
   "execution_count": 32,
   "metadata": {
    "collapsed": false
   },
   "outputs": [],
   "source": [
    "from __future__ import division\n",
    "import numpy as np\n",
    "import math\n",
    "import yaml\n",
    "import matplotlib.pyplot as plt\n",
    "%matplotlib inline\n",
    "\n",
    "class Network:\n",
    "    \"\"\"\n",
    "    A class to hold the queueing network object\n",
    "    \"\"\"\n",
    "\n",
    "    def __init__(self, n1, mu1, r11, L1):\n",
    "        \"\"\"\n",
    "        Initialises the Network object\n",
    "\n",
    "            >>> Q = Network(3, 10.0, 0.25, 7.0)\n",
    "            >>> Q.n1\n",
    "            3\n",
    "            >>> Q.mu1\n",
    "            10.0\n",
    "            >>> Q.r11\n",
    "            0.25\n",
    "            >>> Q.L1\n",
    "            7.0\n",
    "            >>> Q.State_Space\n",
    "            [0, 1, 2, 3, 4, -1]\n",
    "        \"\"\"\n",
    "        self.n1 = n1\n",
    "        self.mu1 = mu1\n",
    "        self.r11 = r11\n",
    "        self.L1 = L1\n",
    "        self.State_Space = [(i) for i in range(self.n1+2)] + [-1]\n",
    "        self.write_transition_matrix()\n",
    "        self.discretise_transition_matrix()\n",
    "\n",
    "    def find_transition_rates(self, state1, state2):\n",
    "        \"\"\"\n",
    "        Finds the transition rates for given state transition\n",
    "\n",
    "            Testing all possible types of transitions\n",
    "            >>> Q = Network(3, 10.0, 0.25, 7.0)\n",
    "            >>> Q.find_transition_rates(-1, -1)\n",
    "            0\n",
    "            >>> Q.find_transition_rates(-1, 3)\n",
    "            0\n",
    "            >>> Q.find_transition_rates(1, -1)\n",
    "            0\n",
    "            >>> Q.find_transition_rates(4, -1)\n",
    "            2.5\n",
    "            >>> Q.find_transition_rates(1, 2)\n",
    "            7.0\n",
    "            >>> Q.find_transition_rates(3, 2)\n",
    "            7.5\n",
    "        \"\"\"\n",
    "        if state1 == -1:\n",
    "            return 0\n",
    "        if state2 == -1:\n",
    "            if state1 == self.n1 + 1:\n",
    "                return self.r11*self.mu1\n",
    "            else:\n",
    "                return 0\n",
    "        else:\n",
    "            delta = (state2-state1)\n",
    "            if delta == 1:\n",
    "                if state1<self.n1+1:\n",
    "                    return self.L1\n",
    "                return 0\n",
    "            if delta == -1:\n",
    "                return (1-self.r11)*self.mu1\n",
    "        return 0\n",
    "\n",
    "    def write_transition_matrix(self):\n",
    "        \"\"\"\n",
    "        Writes the transition matrix for the markov chain\n",
    "\n",
    "            >>> Q = Network(3, 10.0, 0.25, 7.0)\n",
    "            >>> Q.write_transition_matrix()\n",
    "            >>> Q.transition_matrix\n",
    "            array([[ -7. ,   7. ,   0. ,   0. ,   0. ,   0. ],\n",
    "                   [  7.5, -14.5,   7. ,   0. ,   0. ,   0. ],\n",
    "                   [  0. ,   7.5, -14.5,   7. ,   0. ,   0. ],\n",
    "                   [  0. ,   0. ,   7.5, -14.5,   7. ,   0. ],\n",
    "                   [  0. ,   0. ,   0. ,   7.5, -10. ,   2.5],\n",
    "                   [  0. ,   0. ,   0. ,   0. ,   0. ,  -0. ]])\n",
    "        \"\"\"\n",
    "        self.transition_matrix = [[self.find_transition_rates(s1, s2) for s2 in self.State_Space] for s1 in self.State_Space]\n",
    "        for i in range(len(self.transition_matrix)):\n",
    "            a = sum(self.transition_matrix[i])\n",
    "            self.transition_matrix[i][i] = -a\n",
    "            self.transition_matrix = np.array(self.transition_matrix)\n",
    "            \n",
    "    def get_time_step_upper_bound(self):\n",
    "        return 1 / max([abs(self.transition_matrix[i][i]) for i in range(len(self.transition_matrix))])\n",
    "        \n",
    "\n",
    "    def discretise_transition_matrix(self, time_step=None):\n",
    "        \"\"\"\n",
    "        Disctetises the transition matrix\n",
    "\n",
    "            >>> Q = Network(3, 10.0, 0.25, 7.0)\n",
    "            >>> Q.write_transition_matrix()\n",
    "            >>> Q.discretise_transition_matrix()\n",
    "            >>> Q.discrete_transition_matrix\n",
    "            array([[ 0.51724138,  0.48275862,  0.        ,  0.        ,  0.        ,\n",
    "                     0.        ],\n",
    "                   [ 0.51724138,  0.        ,  0.48275862,  0.        ,  0.        ,\n",
    "                     0.        ],\n",
    "                   [ 0.        ,  0.51724138,  0.        ,  0.48275862,  0.        ,\n",
    "                     0.        ],\n",
    "                   [ 0.        ,  0.        ,  0.51724138,  0.        ,  0.48275862,\n",
    "                     0.        ],\n",
    "                   [ 0.        ,  0.        ,  0.        ,  0.51724138,  0.31034483,\n",
    "                     0.17241379],\n",
    "                   [ 0.        ,  0.        ,  0.        ,  0.        ,  0.        ,\n",
    "                     1.        ]])\n",
    "        \"\"\"\n",
    "        if time_step is None:\n",
    "            self.time_step = 1 / max([abs(self.transition_matrix[i][i]) for i in range(len(self.transition_matrix))])\n",
    "        else:\n",
    "            self.time_step = time_step\n",
    "        self.discrete_transition_matrix = self.transition_matrix*self.time_step + np.identity(len(self.transition_matrix))\n",
    "        \n",
    "def find_time_step(schedule_lengths, upper_bound):\n",
    "    \"\"\"\n",
    "    schedule_lengths: tuple of the form (length1, length2)\n",
    "    upper_bound: the upper bound of the time step size\n",
    "    \"\"\"    \n",
    "    d = math.gcd(*schedule_lengths)\n",
    "    delta = d / math.ceil(d/upper_bound)\n",
    "    discrete_schedule_lengths = [s / delta for s in schedule_lengths]\n",
    "    return delta, discrete_schedule_lengths"
   ]
  },
  {
   "cell_type": "code",
   "execution_count": 33,
   "metadata": {
    "collapsed": false
   },
   "outputs": [],
   "source": [
    "n, mu, r11, L = 2, 6, .3, 2\n",
    "schedule_lengths = (20, 5)\n",
    "\n",
    "def obtain_transition_matrices(n, mu, r11, L, schedule_lengths):\n",
    "    N, Nv = Network(n, mu, r11, L), Network(n, 0, r11, L)\n",
    "    upper_bound = N.get_time_step_upper_bound()\n",
    "    delta, discrete_schedule_lengths = find_time_step(schedule_lengths, upper_bound)\n",
    "    \n",
    "    N.discretise_transition_matrix(time_step=delta)\n",
    "    P = N.discrete_transition_matrix\n",
    "    \n",
    "    Nv.discretise_transition_matrix(delta)\n",
    "    Pv = Nv.discrete_transition_matrix\n",
    "    \n",
    "\n",
    "    return P, Pv, discrete_schedule_lengths, delta\n"
   ]
  },
  {
   "cell_type": "code",
   "execution_count": 34,
   "metadata": {
    "collapsed": false
   },
   "outputs": [],
   "source": [
    "def obtain_probability_distributions(n, mu, r11, L, schedule_lengths, stopping_probability = .999):\n",
    "    P, Pv, discrete_schedule_lengths, delta = obtain_transition_matrices(n, mu, r11, L, schedule_lengths)\n",
    "    \n",
    "    step_counts = [0]\n",
    "    approx_cdf = [0]\n",
    "    approx_pdf = [0]\n",
    "    transition_matrix = P\n",
    "    step = 0\n",
    "    \n",
    "    while approx_cdf[-1] < stopping_probability:\n",
    "        step += 1\n",
    "        if step % sum(discrete_schedule_lengths) < discrete_schedule_lengths[0]:\n",
    "            transition_matrix = np.matmul(transition_matrix, P)\n",
    "        else:\n",
    "            transition_matrix = np.matmul(transition_matrix, Pv)\n",
    "        step_counts.append(step)\n",
    "        absorption_prob = transition_matrix[0, -1]\n",
    "        approx_cdf.append(absorption_prob)\n",
    "        approx_pdf.append(approx_cdf[-1] - approx_cdf[-2])\n",
    "    \n",
    "    pdf = [p / sum(approx_pdf) for p in approx_pdf]\n",
    "    cdf = np.cumsum(pdf)\n",
    "    time_steps = [s * delta for s in step_counts]\n",
    "    return time_steps, pdf, cdf"
   ]
  },
  {
   "cell_type": "code",
   "execution_count": 35,
   "metadata": {
    "collapsed": true
   },
   "outputs": [],
   "source": [
    "def mean_time_till_deadlock(n, mu, r11, L, schedule_lengths, stopping_probability = .999):\n",
    "    time_steps, pdf, cdf = obtain_probability_distributions(n, mu, r11, L, schedule_lengths, stopping_probability = .9999)\n",
    "    return sum([step * prob for step, prob in zip(time_steps, pdf)])"
   ]
  },
  {
   "cell_type": "code",
   "execution_count": 36,
   "metadata": {
    "collapsed": false
   },
   "outputs": [],
   "source": [
    "time_steps, pdf, cdf = obtain_probability_distributions(n, mu, r11, L, schedule_lengths, stopping_probability = .9999)"
   ]
  },
  {
   "cell_type": "code",
   "execution_count": 37,
   "metadata": {
    "collapsed": true
   },
   "outputs": [],
   "source": [
    "def time_to_deadlock(m1=6):\n",
    "    Q = Network(2, m1, 0.3, 2, 8, 5, .999)\n",
    "    Q.find_mean_time_to_absorbtion()\n",
    "    return Q.mean_time_to_absorbtion[\"0\"]"
   ]
  },
  {
   "cell_type": "code",
   "execution_count": 9,
   "metadata": {
    "collapsed": false
   },
   "outputs": [
    {
     "ename": "TypeError",
     "evalue": "__init__() takes 5 positional arguments but 8 were given",
     "output_type": "error",
     "traceback": [
      "\u001b[1;31m---------------------------------------------------------------------------\u001b[0m",
      "\u001b[1;31mTypeError\u001b[0m                                 Traceback (most recent call last)",
      "\u001b[1;32m<ipython-input-9-411de684ed18>\u001b[0m in \u001b[0;36m<module>\u001b[1;34m()\u001b[0m\n\u001b[1;32m----> 1\u001b[1;33m \u001b[0mtimes_1\u001b[0m \u001b[1;33m=\u001b[0m \u001b[1;33m[\u001b[0m\u001b[0mtime_to_deadlock\u001b[0m\u001b[1;33m(\u001b[0m\u001b[1;36m1\u001b[0m\u001b[1;33m)\u001b[0m\u001b[1;33m]\u001b[0m\u001b[1;33m\u001b[0m\u001b[0m\n\u001b[0m\u001b[0;32m      2\u001b[0m \u001b[0mtimes_2\u001b[0m \u001b[1;33m=\u001b[0m \u001b[1;33m[\u001b[0m\u001b[0mtime_to_deadlock\u001b[0m\u001b[1;33m(\u001b[0m\u001b[1;36m2\u001b[0m\u001b[1;33m)\u001b[0m\u001b[1;33m]\u001b[0m\u001b[1;33m\u001b[0m\u001b[0m\n\u001b[0;32m      3\u001b[0m \u001b[0mtimes_3\u001b[0m \u001b[1;33m=\u001b[0m \u001b[1;33m[\u001b[0m\u001b[0mtime_to_deadlock\u001b[0m\u001b[1;33m(\u001b[0m\u001b[1;36m3\u001b[0m\u001b[1;33m)\u001b[0m\u001b[1;33m]\u001b[0m\u001b[1;33m\u001b[0m\u001b[0m\n\u001b[0;32m      4\u001b[0m \u001b[0mtimes_4\u001b[0m \u001b[1;33m=\u001b[0m \u001b[1;33m[\u001b[0m\u001b[0mtime_to_deadlock\u001b[0m\u001b[1;33m(\u001b[0m\u001b[1;36m4\u001b[0m\u001b[1;33m)\u001b[0m\u001b[1;33m]\u001b[0m\u001b[1;33m\u001b[0m\u001b[0m\n\u001b[0;32m      5\u001b[0m \u001b[0mtimes_5\u001b[0m \u001b[1;33m=\u001b[0m \u001b[1;33m[\u001b[0m\u001b[0mtime_to_deadlock\u001b[0m\u001b[1;33m(\u001b[0m\u001b[1;36m5\u001b[0m\u001b[1;33m)\u001b[0m\u001b[1;33m]\u001b[0m\u001b[1;33m\u001b[0m\u001b[0m\n",
      "\u001b[1;32m<ipython-input-8-9d4e42280633>\u001b[0m in \u001b[0;36mtime_to_deadlock\u001b[1;34m(m1)\u001b[0m\n\u001b[0;32m      1\u001b[0m \u001b[1;32mdef\u001b[0m \u001b[0mtime_to_deadlock\u001b[0m\u001b[1;33m(\u001b[0m\u001b[0mm1\u001b[0m\u001b[1;33m=\u001b[0m\u001b[1;36m6\u001b[0m\u001b[1;33m)\u001b[0m\u001b[1;33m:\u001b[0m\u001b[1;33m\u001b[0m\u001b[0m\n\u001b[1;32m----> 2\u001b[1;33m     \u001b[0mQ\u001b[0m \u001b[1;33m=\u001b[0m \u001b[0mNetwork\u001b[0m\u001b[1;33m(\u001b[0m\u001b[1;36m2\u001b[0m\u001b[1;33m,\u001b[0m \u001b[0mm1\u001b[0m\u001b[1;33m,\u001b[0m \u001b[1;36m0.3\u001b[0m\u001b[1;33m,\u001b[0m \u001b[1;36m2\u001b[0m\u001b[1;33m,\u001b[0m \u001b[1;36m8\u001b[0m\u001b[1;33m,\u001b[0m \u001b[1;36m5\u001b[0m\u001b[1;33m,\u001b[0m \u001b[1;36m.999\u001b[0m\u001b[1;33m)\u001b[0m\u001b[1;33m\u001b[0m\u001b[0m\n\u001b[0m\u001b[0;32m      3\u001b[0m     \u001b[0mQ\u001b[0m\u001b[1;33m.\u001b[0m\u001b[0mfind_mean_time_to_absorbtion\u001b[0m\u001b[1;33m(\u001b[0m\u001b[1;33m)\u001b[0m\u001b[1;33m\u001b[0m\u001b[0m\n\u001b[0;32m      4\u001b[0m     \u001b[1;32mreturn\u001b[0m \u001b[0mQ\u001b[0m\u001b[1;33m.\u001b[0m\u001b[0mmean_time_to_absorbtion\u001b[0m\u001b[1;33m[\u001b[0m\u001b[1;34m\"0\"\u001b[0m\u001b[1;33m]\u001b[0m\u001b[1;33m\u001b[0m\u001b[0m\n",
      "\u001b[1;31mTypeError\u001b[0m: __init__() takes 5 positional arguments but 8 were given"
     ]
    }
   ],
   "source": [
    "times_1 = [time_to_deadlock(1)]\n",
    "times_2 = [time_to_deadlock(2)]\n",
    "times_3 = [time_to_deadlock(3)]\n",
    "times_4 = [time_to_deadlock(4)]\n",
    "times_5 = [time_to_deadlock(5)]\n",
    "times_6 = [time_to_deadlock(6)]\n",
    "times_7 = [time_to_deadlock(7)]"
   ]
  },
  {
   "cell_type": "code",
   "execution_count": 10,
   "metadata": {
    "collapsed": false
   },
   "outputs": [
    {
     "data": {
      "image/png": "[encoded data removed]",
      "text/plain": [
       "<matplotlib.figure.Figure at 0x3466074ba8>"
      ]
     },
     "metadata": {},
     "output_type": "display_data"
    }
   ],
   "source": [
    "plt.figure()\n",
    "plt.plot(time_steps, cdf, label=\"cdf\")\n",
    "plt.plot(time_steps, pdf, label=\"pdf\")\n",
    "plt.xlabel(\"Time\")\n",
    "plt.ylabel(\"Probability of deadlock\")\n",
    "plt.legend();"
   ]
  },
  {
   "cell_type": "code",
   "execution_count": null,
   "metadata": {
    "collapsed": false,
    "scrolled": true
   },
   "outputs": [
    {
     "name": "stderr",
     "output_type": "stream",
     "text": [
      "\n",
      "  0%|                                                    | 0/7 [00:00<?, ?it/s]\n",
      " 14%|██████▎                                     | 1/7 [00:00<00:00,  7.63it/s]\n",
      " 29%|████████████▌                               | 2/7 [00:00<00:01,  4.19it/s]\n",
      " 43%|██████████████████▊                         | 3/7 [00:01<00:01,  2.72it/s]\n",
      " 57%|█████████████████████████▏                  | 4/7 [00:02<00:01,  1.98it/s]\n",
      " 71%|███████████████████████████████▍            | 5/7 [00:03<00:01,  1.27it/s]\n",
      " 86%|█████████████████████████████████████▋      | 6/7 [00:08<00:02,  2.11s/it]\n",
      "100%|████████████████████████████████████████████| 7/7 [00:26<00:00,  6.81s/it]\n",
      "\n",
      "  0%|                                                    | 0/7 [00:00<?, ?it/s]\n",
      " 29%|████████████▌                               | 2/7 [00:00<00:00, 14.92it/s]\n",
      " 43%|██████████████████▊                         | 3/7 [00:00<00:00,  8.95it/s]\n",
      " 57%|█████████████████████████▏                  | 4/7 [00:00<00:00,  4.49it/s]\n",
      " 71%|███████████████████████████████▍            | 5/7 [00:03<00:01,  1.10it/s]\n",
      " 86%|█████████████████████████████████████▋      | 6/7 [00:15<00:04,  4.41s/it]"
     ]
    }
   ],
   "source": [
    "import tqdm\n",
    "ns = [1, 2, 3, 6, 9, 12, 15] \n",
    "times1 = [mean_time_till_deadlock(n, mu, r11, L, (8, 5), stopping_probability = .999) for n in tqdm.tqdm(ns)]\n",
    "#no_times1 = [mean_time_till_deadlock(n, mu, r11, L, (13, 0), stopping_probability = .999) for r11 in tqdm.tqdm(r11s)]\n",
    "times2 = [mean_time_till_deadlock(n, mu, r11, L, (13, 5), stopping_probability = .999) for n in tqdm.tqdm(ns)]\n",
    "#no_times2 = [mean_time_till_deadlock(n, mu, r11, L, (23, 0), stopping_probability = .999) for r11 in tqdm.tqdm(r11s)]\n",
    "times3 = [mean_time_till_deadlock(n, mu, r11, L, (18, 5), stopping_probability = .999) for n in tqdm.tqdm(ns)]\n",
    "times4 = [mean_time_till_deadlock(n, mu, r11, L, (23, 5), stopping_probability = .999) for n in tqdm.tqdm(ns)]\n",
    "times5 = [mean_time_till_deadlock(n, mu, r11, L, (28, 5), stopping_probability = .999) for n in tqdm.tqdm(ns)]\n",
    "times6 = [mean_time_till_deadlock(n, mu, r11, L, (33, 5), stopping_probability = .999) for n in tqdm.tqdm(ns)]\n",
    "times7 = [mean_time_till_deadlock(n, mu, r11, L, (38, 5), stopping_probability = .999) for n in tqdm.tqdm(ns)]"
   ]
  },
  {
   "cell_type": "code",
   "execution_count": 39,
   "metadata": {
    "collapsed": false
   },
   "outputs": [
    {
     "data": {
      "image/png": "[encoded data removed]",
      "text/plain": [
       "<matplotlib.figure.Figure at 0x346880bef0>"
      ]
     },
     "metadata": {},
     "output_type": "display_data"
    }
   ],
   "source": [
    "plt.plot(ns, times1, label = \"v1\")\n",
    "plt.plot(ns, times2, label = \"v2\")\n",
    "plt.plot(ns, times3, label = \"3\")\n",
    "plt.plot(ns, times4, label = \"4\")\n",
    "plt.plot(ns, times5, label = \"5\")\n",
    "plt.plot(ns, times6, label = \"6\")\n",
    "plt.plot(ns, times7, label = \"7\")\n",
    "plt.xlabel(\"r11\")\n",
    "plt.ylabel(\"Time to deadlock\")\n",
    "plt.legend();"
   ]
  },
  {
   "cell_type": "code",
   "execution_count": 51,
   "metadata": {
    "collapsed": false
   },
   "outputs": [
    {
     "data": {
      "text/plain": [
       "[1, 2, 1, 2]"
      ]
     },
     "execution_count": 51,
     "metadata": {},
     "output_type": "execute_result"
    }
   ],
   "source": [
    "v = [1,2]\n",
    "s(v, v)"
   ]
  },
  {
   "cell_type": "code",
   "execution_count": 133,
   "metadata": {
    "collapsed": false
   },
   "outputs": [
    {
     "data": {
      "text/plain": [
       "0.69810935417780529"
      ]
     },
     "execution_count": 133,
     "metadata": {},
     "output_type": "execute_result"
    }
   ],
   "source": [
    "mean_time_till_deadlock(n, mu, r11, 35, (13, 0))"
   ]
  },
  {
   "cell_type": "code",
   "execution_count": null,
   "metadata": {
    "collapsed": true
   },
   "outputs": [],
   "source": []
  }
 ],
 "metadata": {
  "kernelspec": {
   "display_name": "Python 3",
   "language": "python",
   "name": "python3"
  },
  "language_info": {
   "codemirror_mode": {
    "name": "ipython",
    "version": 3
   },
   "file_extension": ".py",
   "mimetype": "text/x-python",
   "name": "python",
   "nbconvert_exporter": "python",
   "pygments_lexer": "ipython3",
   "version": "3.5.1"
  }
 },
 "nbformat": 4,
 "nbformat_minor": 0
}
