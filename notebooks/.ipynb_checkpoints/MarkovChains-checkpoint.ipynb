{
 "cells": [
  {
   "cell_type": "code",
   "execution_count": 12,
   "metadata": {
    "collapsed": false
   },
   "outputs": [],
   "source": [
    "from __future__ import division\n",
    "import numpy as np\n",
    "import yaml\n",
    "\n",
    "class Network:\n",
    "    \"\"\"\n",
    "    A class to hold the queueing network object\n",
    "    \"\"\"\n",
    "\n",
    "    def __init__(self, n1, mu1, r11, L1):\n",
    "        \"\"\"\n",
    "        Initialises the Network object\n",
    "\n",
    "            >>> Q = Network(3, 10.0, 0.25, 7.0)\n",
    "            >>> Q.n1\n",
    "            3\n",
    "            >>> Q.mu1\n",
    "            10.0\n",
    "            >>> Q.r11\n",
    "            0.25\n",
    "            >>> Q.L1\n",
    "            7.0\n",
    "            >>> Q.State_Space\n",
    "            [0, 1, 2, 3, 4, -1]\n",
    "        \"\"\"\n",
    "        self.n1 = n1\n",
    "        self.mu1 = mu1\n",
    "        self.r11 = r11\n",
    "        self.L1 = L1\n",
    "        self.State_Space = [(i) for i in range(self.n1+2)] + [-1]\n",
    "        self.write_transition_matrix()\n",
    "        self.discretise_transition_matrix()\n",
    "\n",
    "    def find_transition_rates(self, state1, state2):\n",
    "        \"\"\"\n",
    "        Finds the transition rates for given state transition\n",
    "\n",
    "            Testing all possible types of transitions\n",
    "            >>> Q = Network(3, 10.0, 0.25, 7.0)\n",
    "            >>> Q.find_transition_rates(-1, -1)\n",
    "            0\n",
    "            >>> Q.find_transition_rates(-1, 3)\n",
    "            0\n",
    "            >>> Q.find_transition_rates(1, -1)\n",
    "            0\n",
    "            >>> Q.find_transition_rates(4, -1)\n",
    "            2.5\n",
    "            >>> Q.find_transition_rates(1, 2)\n",
    "            7.0\n",
    "            >>> Q.find_transition_rates(3, 2)\n",
    "            7.5\n",
    "        \"\"\"\n",
    "        if state1 == -1:\n",
    "            return 0\n",
    "        if state2 == -1:\n",
    "            if state1 == self.n1 + 1:\n",
    "                return self.r11*self.mu1\n",
    "            else:\n",
    "                return 0\n",
    "        else:\n",
    "            delta = (state2-state1)\n",
    "            if delta == 1:\n",
    "                if state1<self.n1+1:\n",
    "                    return self.L1\n",
    "                return 0\n",
    "            if delta == -1:\n",
    "                return (1-self.r11)*self.mu1\n",
    "        return 0\n",
    "\n",
    "    def write_transition_matrix(self):\n",
    "        \"\"\"\n",
    "        Writes the transition matrix for the markov chain\n",
    "\n",
    "            >>> Q = Network(3, 10.0, 0.25, 7.0)\n",
    "            >>> Q.write_transition_matrix()\n",
    "            >>> Q.transition_matrix\n",
    "            array([[ -7. ,   7. ,   0. ,   0. ,   0. ,   0. ],\n",
    "                   [  7.5, -14.5,   7. ,   0. ,   0. ,   0. ],\n",
    "                   [  0. ,   7.5, -14.5,   7. ,   0. ,   0. ],\n",
    "                   [  0. ,   0. ,   7.5, -14.5,   7. ,   0. ],\n",
    "                   [  0. ,   0. ,   0. ,   7.5, -10. ,   2.5],\n",
    "                   [  0. ,   0. ,   0. ,   0. ,   0. ,  -0. ]])\n",
    "        \"\"\"\n",
    "        self.transition_matrix = [[self.find_transition_rates(s1, s2) for s2 in self.State_Space] for s1 in self.State_Space]\n",
    "        for i in range(len(self.transition_matrix)):\n",
    "            a = sum(self.transition_matrix[i])\n",
    "            self.transition_matrix[i][i] = -a\n",
    "            self.transition_matrix = np.array(self.transition_matrix)\n",
    "\n",
    "    def discretise_transition_matrix(self):\n",
    "        \"\"\"\n",
    "        Disctetises the transition matrix\n",
    "\n",
    "            >>> Q = Network(3, 10.0, 0.25, 7.0)\n",
    "            >>> Q.write_transition_matrix()\n",
    "            >>> Q.discretise_transition_matrix()\n",
    "            >>> Q.discrete_transition_matrix\n",
    "            array([[ 0.51724138,  0.48275862,  0.        ,  0.        ,  0.        ,\n",
    "                     0.        ],\n",
    "                   [ 0.51724138,  0.        ,  0.48275862,  0.        ,  0.        ,\n",
    "                     0.        ],\n",
    "                   [ 0.        ,  0.51724138,  0.        ,  0.48275862,  0.        ,\n",
    "                     0.        ],\n",
    "                   [ 0.        ,  0.        ,  0.51724138,  0.        ,  0.48275862,\n",
    "                     0.        ],\n",
    "                   [ 0.        ,  0.        ,  0.        ,  0.51724138,  0.31034483,\n",
    "                     0.17241379],\n",
    "                   [ 0.        ,  0.        ,  0.        ,  0.        ,  0.        ,\n",
    "                     1.        ]])\n",
    "        \"\"\"\n",
    "        self.time_step = 1 / max([abs(self.transition_matrix[i][i]) for i in range(len(self.transition_matrix))])\n",
    "        self.discrete_transition_matrix = self.transition_matrix*self.time_step + np.identity(len(self.transition_matrix))\n",
    "\n",
    "    def find_mean_time_to_absorbtion(self):\n",
    "        \"\"\"\n",
    "        Finds the mean time to absorbtion\n",
    "\n",
    "            >>> Q = Network(3, 10.0, 0.25, 7.0)\n",
    "            >>> Q.find_mean_time_to_absorbtion()\n",
    "            >>> Q.mean_steps_to_absorbtion\n",
    "            {'1': 53.625541441066225, '0': 55.696970012494788, '3': 42.665993336109956, '2': 49.334725114535608, '4': 33.449495002082472}\n",
    "            >>> Q.mean_time_to_absorbtion\n",
    "            {'1': 3.6983132028321535, '0': 3.841170345689296, '3': 2.942482299042066, '2': 3.4023948354852145, '4': 2.30686172428155}\n",
    "        \"\"\"\n",
    "        T = self.discrete_transition_matrix[:-1, :-1]\n",
    "        S = np.linalg.inv(np.identity(len(T)) - T)\n",
    "        steps2absorb = [sum([S[i,j] for j in range(len(S))]) for i in range(len(S))]\n",
    "        time2absorb = [s*self.time_step for s in steps2absorb]\n",
    "        self.mean_steps_to_absorbtion = {str(self.State_Space[i]): steps2absorb[i] for i in range(len(steps2absorb))}\n",
    "        self.mean_time_to_absorbtion = {str(self.State_Space[i]): float(time2absorb[i]) for i in range(len(time2absorb))}\n",
    "\n",
    "    def write_results_to_file(self, param):\n",
    "        \"\"\"\n",
    "        Takes the summary statistics and writes them into a .yml file\n",
    "        \"\"\"\n",
    "        results_file = open('%stheoretical_results_%s.yml' % (directory, str(param)), 'w')\n",
    "        results_file.write(yaml.dump(self.mean_time_to_absorbtion, default_flow_style=False))\n",
    "        results_file.close()\n",
    "\n"
   ]
  },
  {
   "cell_type": "code",
   "execution_count": 13,
   "metadata": {
    "collapsed": false
   },
   "outputs": [],
   "source": [
    "Q = Network(4, 3, .25, 2)"
   ]
  },
  {
   "cell_type": "code",
   "execution_count": 14,
   "metadata": {
    "collapsed": false
   },
   "outputs": [
    {
     "data": {
      "text/plain": [
       "[0, 1, 2, 3, 4, 5, -1]"
      ]
     },
     "execution_count": 14,
     "metadata": {},
     "output_type": "execute_result"
    }
   ],
   "source": [
    "Q.State_Space"
   ]
  },
  {
   "cell_type": "code",
   "execution_count": 5,
   "metadata": {
    "collapsed": false
   },
   "outputs": [
    {
     "data": {
      "text/plain": [
       "0.3"
      ]
     },
     "execution_count": 5,
     "metadata": {},
     "output_type": "execute_result"
    }
   ],
   "source": [
    "Q.mu1"
   ]
  },
  {
   "cell_type": "code",
   "execution_count": 8,
   "metadata": {
    "collapsed": false
   },
   "outputs": [
    {
     "data": {
      "text/plain": [
       "array([[-2.  ,  2.  ,  0.  ,  0.  ,  0.  ,  0.  ,  0.  ],\n",
       "       [ 2.25, -4.25,  2.  ,  0.  ,  0.  ,  0.  ,  0.  ],\n",
       "       [ 0.  ,  2.25, -4.25,  2.  ,  0.  ,  0.  ,  0.  ],\n",
       "       [ 0.  ,  0.  ,  2.25, -4.25,  2.  ,  0.  ,  0.  ],\n",
       "       [ 0.  ,  0.  ,  0.  ,  2.25, -4.25,  2.  ,  0.  ],\n",
       "       [ 0.  ,  0.  ,  0.  ,  0.  ,  2.25, -3.  ,  0.75],\n",
       "       [ 0.  ,  0.  ,  0.  ,  0.  ,  0.  ,  0.  , -0.  ]])"
      ]
     },
     "execution_count": 8,
     "metadata": {},
     "output_type": "execute_result"
    }
   ],
   "source": [
    "Q.transition_matrix"
   ]
  },
  {
   "cell_type": "code",
   "execution_count": 9,
   "metadata": {
    "collapsed": true
   },
   "outputs": [],
   "source": [
    "Q.find_mean_time_to_absorbtion()"
   ]
  },
  {
   "cell_type": "code",
   "execution_count": 10,
   "metadata": {
    "collapsed": false
   },
   "outputs": [
    {
     "data": {
      "text/plain": [
       "{'0': 19.83089192708337,\n",
       " '1': 19.330891927083368,\n",
       " '2': 18.26839192708337,\n",
       " '3': 16.57307942708336,\n",
       " '4': 14.16585286458336,\n",
       " '5': 10.957722981770853}"
      ]
     },
     "execution_count": 10,
     "metadata": {},
     "output_type": "execute_result"
    }
   ],
   "source": [
    "Q.mean_time_to_absorbtion"
   ]
  },
  {
   "cell_type": "code",
   "execution_count": null,
   "metadata": {
    "collapsed": true
   },
   "outputs": [],
   "source": [
    "mu1s = [0.5, 1.0, 1.5, 2.0, 2.5, 3.0, 3.5, 4.0, 4.5, 5.0, 5.5, 6.0, 6.5, 7.0, 7.5, 8.0, 8.5, 9.0, 9.5, 10.0]\n",
    "for mu1 in mu1s:\n",
    "    Q = Network(n1, mu1, r11, L1)\n",
    "    Q.find_mean_time_to_absorbtion()\n",
    "    Q.write_results_to_file(mu1)\n",
    "    print \"Starting mu1 = \" + str(mu1)"
   ]
  },
  {
   "cell_type": "code",
   "execution_count": 15,
   "metadata": {
    "collapsed": true
   },
   "outputs": [],
   "source": [
    "from __future__ import division\n",
    "import numpy as np\n",
    "import yaml\n",
    "\n",
    "class Network:\n",
    "    \"\"\"\n",
    "    A class to hold the queueing network object\n",
    "    \"\"\"\n",
    "\n",
    "    def __init__(self, n1, mu1, r11, L1, B1):\n",
    "        \"\"\"\n",
    "        Initialises the Network object\n",
    "\n",
    "            >>> Q = Network(3, 10.0, 0.25, 7.0, 0.5)\n",
    "            >>> Q.n1\n",
    "            3\n",
    "            >>> Q.mu1\n",
    "            10.0\n",
    "            >>> Q.r11\n",
    "            0.25\n",
    "            >>> Q.L1\n",
    "            7.0\n",
    "            >>> Q.B1\n",
    "            0.5\n",
    "            >>> Q.State_Space\n",
    "            [0, 1, 2, 3, 4, -1]\n",
    "        \"\"\"\n",
    "        self.n1 = n1\n",
    "        self.mu1 = mu1\n",
    "        self.r11 = r11\n",
    "        self.L1 = L1\n",
    "        self.B1 = B1\n",
    "        self.State_Space = [(i) for i in range(self.n1+2)] + [-1]\n",
    "        self.write_transition_matrix()\n",
    "        self.discretise_transition_matrix()\n",
    "\n",
    "    def find_transition_rates(self, state1, state2):\n",
    "        \"\"\"\n",
    "        Finds the transition rates for given state transition\n",
    "\n",
    "            Testing all possible types of transitions\n",
    "            >>> Q = Network(3, 10.0, 0.25, 7.0,0.5)\n",
    "            >>> Q.find_transition_rates(-1, -1)\n",
    "            0\n",
    "            >>> Q.find_transition_rates(-1, 3)\n",
    "            0\n",
    "            >>> Q.find_transition_rates(1, -1)\n",
    "            0\n",
    "            >>> Q.find_transition_rates(4, -1)\n",
    "            2.5\n",
    "            >>> Q.find_transition_rates(1, 2)\n",
    "            7.0\n",
    "            >>> Q.find_transition_rates(3, 2)\n",
    "            7.5\n",
    "        \"\"\"\n",
    "        if state1 == -1:\n",
    "            return 0\n",
    "        if state2 == -1:\n",
    "            if state1 == self.n1 + 1:\n",
    "                return self.r11*self.mu1\n",
    "            else:\n",
    "                return 0\n",
    "        else:\n",
    "            delta = (state2-state1)\n",
    "            if delta == 1:\n",
    "                if 0<state1<self.n1+1:\n",
    "                    return self.L1*self.B1/(state1)\n",
    "                else:\n",
    "                    return self.L1\n",
    "                return 0\n",
    "            if delta == -1:\n",
    "                return (1-self.r11)*self.mu1\n",
    "        return 0\n",
    "\n",
    "    def write_transition_matrix(self):\n",
    "        \"\"\"\n",
    "        Writes the transition matrix for the markov chain\n",
    "\n",
    "            >>> Q = Network(3, 10.0, 0.25, 7.0, 0.5)\n",
    "            >>> Q.write_transition_matrix()\n",
    "            >>> Q.transition_matrix\n",
    "            array([[ -7. , 7 ,   0. ,   0. ,   0. ,   0. ],\n",
    "                   [  7.5, -11,   3.5 ,   0. ,   0. ,   0. ],\n",
    "                   [  0. ,   7.5, -11,   7/3. ,   0. ,   0. ],\n",
    "                   [  0. ,   0. ,   7.5, -11,   7. ,   0. ],\n",
    "                   [  0. ,   0. ,   0. ,   7.5, -10. ,   2.5],\n",
    "                   [  0. ,   0. ,   0. ,   0. ,   0. ,  -0. ]])\n",
    "        \"\"\"\n",
    "        self.transition_matrix = [[self.find_transition_rates(s1, s2) for s2 in self.State_Space] for s1 in self.State_Space]\n",
    "        for i in range(len(self.transition_matrix)):\n",
    "            a = sum(self.transition_matrix[i])\n",
    "            self.transition_matrix[i][i] = -a\n",
    "            self.transition_matrix = np.array(self.transition_matrix)\n",
    "\n",
    "    def discretise_transition_matrix(self):\n",
    "        \"\"\"\n",
    "        Disctetises the transition matrix\n",
    "\n",
    "            >>> Q = Network(3, 10.0, 0.25, 7.0, 0.5)\n",
    "            >>> Q.write_transition_matrix()\n",
    "            >>> Q.discretise_transition_matrix()\n",
    "            >>> Q.discrete_transition_matrix\n",
    "            array([[ 0.51724138,  0.48275862,  0.        ,  0.        ,  0.        ,\n",
    "                     0.        ],\n",
    "                   [ 0.51724138,  0.        ,  0.48275862,  0.        ,  0.        ,\n",
    "                     0.        ],\n",
    "                   [ 0.        ,  0.51724138,  0.        ,  0.48275862,  0.        ,\n",
    "                     0.        ],\n",
    "                   [ 0.        ,  0.        ,  0.51724138,  0.        ,  0.48275862,\n",
    "                     0.        ],\n",
    "                   [ 0.        ,  0.        ,  0.        ,  0.51724138,  0.31034483,\n",
    "                     0.17241379],\n",
    "                   [ 0.        ,  0.        ,  0.        ,  0.        ,  0.        ,\n",
    "                     1.        ]])\n",
    "        \"\"\"\n",
    "        self.time_step = 1 / max([abs(self.transition_matrix[i][i]) for i in range(len(self.transition_matrix))])\n",
    "        self.discrete_transition_matrix = self.transition_matrix*self.time_step + np.identity(len(self.transition_matrix))\n",
    "\n",
    "    def find_mean_time_to_absorbtion(self):\n",
    "        \"\"\"\n",
    "        Finds the mean time to absorbtion\n",
    "\n",
    "            >>> Q = Network(3, 10.0, 0.25, 7.0, 0.5)\n",
    "            >>> Q.find_mean_time_to_absorbtion()\n",
    "            >>> Q.mean_steps_to_absorbtion\n",
    "            {'1': 53.625541441066225, '0': 55.696970012494788, '3': 42.665993336109956, '2': 49.334725114535608, '4': 33.449495002082472}\n",
    "            >>> Q.mean_time_to_absorbtion\n",
    "            {'1': 3.6983132028321535, '0': 3.841170345689296, '3': 2.942482299042066, '2': 3.4023948354852145, '4': 2.30686172428155}\n",
    "        \"\"\"\n",
    "        T = self.discrete_transition_matrix[:-1, :-1]\n",
    "        S = np.linalg.inv(np.identity(len(T)) - T)\n",
    "        steps2absorb = [sum([S[i,j] for j in range(len(S))]) for i in range(len(S))]\n",
    "        time2absorb = [s*self.time_step for s in steps2absorb]\n",
    "        self.mean_steps_to_absorbtion = {str(self.State_Space[i]): steps2absorb[i] for i in range(len(steps2absorb))}\n",
    "        self.mean_time_to_absorbtion = {str(self.State_Space[i]): float(time2absorb[i]) for i in range(len(time2absorb))}\n",
    "\n",
    "    def write_results_to_file(self, param):\n",
    "        \"\"\"\n",
    "        Takes the summary statistics and writes them into a .yml file\n",
    "        \"\"\"\n",
    "        results_file = open('%stheoretical_results_%s.yml' % (directory, str(param)), 'w')\n",
    "        results_file.write(yaml.dump(self.mean_time_to_absorbtion, default_flow_style=False))\n",
    "        results_file.close()\n",
    "\n"
   ]
  },
  {
   "cell_type": "code",
   "execution_count": 80,
   "metadata": {
    "collapsed": false
   },
   "outputs": [],
   "source": [
    "Q = Network(2, 5, .1, 1, 0.8)"
   ]
  },
  {
   "cell_type": "code",
   "execution_count": 81,
   "metadata": {
    "collapsed": false
   },
   "outputs": [
    {
     "data": {
      "text/plain": [
       "[0, 1, 2, 3, -1]"
      ]
     },
     "execution_count": 81,
     "metadata": {},
     "output_type": "execute_result"
    }
   ],
   "source": [
    "Q.State_Space"
   ]
  },
  {
   "cell_type": "code",
   "execution_count": 82,
   "metadata": {
    "collapsed": false
   },
   "outputs": [
    {
     "data": {
      "text/plain": [
       "array([[-1. ,  1. ,  0. ,  0. ,  0. ],\n",
       "       [ 4.5, -5.3,  0.8,  0. ,  0. ],\n",
       "       [ 0. ,  4.5, -4.9,  0.4,  0. ],\n",
       "       [ 0. ,  0. ,  4.5, -5. ,  0.5],\n",
       "       [ 0. ,  0. ,  0. ,  0. , -0. ]])"
      ]
     },
     "execution_count": 82,
     "metadata": {},
     "output_type": "execute_result"
    }
   ],
   "source": [
    "Q.transition_matrix"
   ]
  },
  {
   "cell_type": "code",
   "execution_count": 83,
   "metadata": {
    "collapsed": false
   },
   "outputs": [
    {
     "data": {
      "text/plain": [
       "array([[ 0.81132075,  0.18867925,  0.        ,  0.        ,  0.        ],\n",
       "       [ 0.8490566 ,  0.        ,  0.1509434 ,  0.        ,  0.        ],\n",
       "       [ 0.        ,  0.8490566 ,  0.0754717 ,  0.0754717 ,  0.        ],\n",
       "       [ 0.        ,  0.        ,  0.8490566 ,  0.05660377,  0.09433962],\n",
       "       [ 0.        ,  0.        ,  0.        ,  0.        ,  1.        ]])"
      ]
     },
     "execution_count": 83,
     "metadata": {},
     "output_type": "execute_result"
    }
   ],
   "source": [
    "Q.discrete_transition_matrix"
   ]
  },
  {
   "cell_type": "code",
   "execution_count": 63,
   "metadata": {
    "collapsed": false
   },
   "outputs": [],
   "source": [
    "Q.find_mean_time_to_absorbtion()"
   ]
  },
  {
   "cell_type": "code",
   "execution_count": 64,
   "metadata": {
    "collapsed": false
   },
   "outputs": [
    {
     "data": {
      "text/plain": [
       "{'0': 13600.851562537993,\n",
       " '1': 13599.851562537991,\n",
       " '2': 13592.97656253797,\n",
       " '3': 13513.132812537744,\n",
       " '4': 12162.019531283968}"
      ]
     },
     "execution_count": 64,
     "metadata": {},
     "output_type": "execute_result"
    }
   ],
   "source": [
    "Q.mean_time_to_absorbtion"
   ]
  },
  {
   "cell_type": "code",
   "execution_count": 126,
   "metadata": {
    "collapsed": false
   },
   "outputs": [
    {
     "data": {
      "text/plain": [
       "20.974222222222245"
      ]
     },
     "execution_count": 126,
     "metadata": {},
     "output_type": "execute_result"
    }
   ],
   "source": [
    "Q = Network(3, 1, .1, 5, 0.9)\n",
    "Q.find_mean_time_to_absorbtion()\n",
    "Q.mean_time_to_absorbtion[\"0\"]"
   ]
  },
  {
   "cell_type": "code",
   "execution_count": 49,
   "metadata": {
    "collapsed": false
   },
   "outputs": [],
   "source": [
    "def time_to_deadlock(beta=0.9, m1=2):\n",
    "    Q = Network(3, m1, 0.1, 5, beta)\n",
    "    Q.find_mean_time_to_absorbtion()\n",
    "    return Q.mean_time_to_absorbtion[\"0\"]"
   ]
  },
  {
   "cell_type": "code",
   "execution_count": 18,
   "metadata": {
    "collapsed": false
   },
   "outputs": [
    {
     "data": {
      "text/plain": [
       "20.974222222222245"
      ]
     },
     "execution_count": 18,
     "metadata": {},
     "output_type": "execute_result"
    }
   ],
   "source": [
    "time_to_deadlock(.9)"
   ]
  },
  {
   "cell_type": "code",
   "execution_count": 21,
   "metadata": {
    "collapsed": false
   },
   "outputs": [],
   "source": [
    "betas = [0.1, .2, .3, .4, .5, .6, .7, .8, .9, 1]\n",
    "times_1 = [time_to_deadlock(beta, 1) for beta in betas]\n",
    "times_2 = [time_to_deadlock(beta, 2) for beta in betas]\n",
    "times_3 = [time_to_deadlock(beta, 3) for beta in betas]\n",
    "times_4 = [time_to_deadlock(beta, 4) for beta in betas]\n",
    "times_5 = [time_to_deadlock(beta, 5) for beta in betas]\n",
    "times_6 = [time_to_deadlock(beta, 6) for beta in betas]\n",
    "times_7 = [time_to_deadlock(beta, 7) for beta in betas]"
   ]
  },
  {
   "cell_type": "code",
   "execution_count": 151,
   "metadata": {
    "collapsed": false
   },
   "outputs": [
    {
     "data": {
      "text/plain": [
       "20.974222222222245"
      ]
     },
     "execution_count": 151,
     "metadata": {},
     "output_type": "execute_result"
    }
   ],
   "source": [
    "time_to_deadlock(0.9)"
   ]
  },
  {
   "cell_type": "code",
   "execution_count": 22,
   "metadata": {
    "collapsed": true
   },
   "outputs": [],
   "source": [
    "import matplotlib.pyplot as plt\n",
    "%matplotlib inline"
   ]
  },
  {
   "cell_type": "code",
   "execution_count": null,
   "metadata": {
    "collapsed": false
   },
   "outputs": [],
   "source": [
    "plt.figure()\n",
    "plt.plot(betas, times_1, label = \"1\")\n",
    "plt.plot(betas, times_2, label = \"2\")\n",
    "plt.plot(betas, times_3, label = \"3\")\n",
    "plt.plot(betas, times_4, label = \"4\")\n",
    "plt.plot(betas, times_5, label = \"5\")\n",
    "plt.plot(betas, times_6, label = \"6\")\n",
    "plt.plot(betas, times_7, label = \"7\")\n",
    "plt.xlabel(\"$\\\\beta$\")\n",
    "plt.ylabel(\"Time to deadlock\")\n",
    "plt.legend();"
   ]
  },
  {
   "cell_type": "code",
   "execution_count": 48,
   "metadata": {
    "collapsed": false
   },
   "outputs": [
    {
     "data": {
      "image/png": "[encoded data removed]",
      "text/plain": [
       "<matplotlib.figure.Figure at 0xa64520a400>"
      ]
     },
     "metadata": {},
     "output_type": "display_data"
    }
   ],
   "source": [
    "plt.figure()\n",
    "plt.plot(ns, times_1, label = \".1\")\n",
    "plt.plot(ns, times_2, label = \".2\")\n",
    "plt.plot(ns, times_3, label = \".3\")\n",
    "plt.plot(ns, times_4, label = \".4\")\n",
    "plt.plot(ns, times_5, label = \".5\")\n",
    "plt.plot(ns, times_6, label = \".6\")\n",
    "plt.plot(ns, times_7, label = \".7\")\n",
    "plt.xlabel(\"n\")\n",
    "plt.ylabel(\"Time_to deadlock\")\n",
    "plt.legend();"
   ]
  },
  {
   "cell_type": "code",
   "execution_count": 71,
   "metadata": {
    "collapsed": false
   },
   "outputs": [],
   "source": [
    "m1s = [0.2, 0.4, 0.6, 0.8, 1.0, 1.2, 1.4, 1.6, 1.8, 2.0]\n",
    "m1s =  sorted([m / 5 for m in m1s] +  [m / 2 for m in m1s] + m1s)\n",
    "times_1 = [time_to_deadlock(m1=m1, beta=0.1) for m1 in m1s]\n",
    "times_2 = [time_to_deadlock(m1=m1, beta=0.2) for m1 in m1s]\n",
    "times_3 = [time_to_deadlock(m1=m1, beta=0.3) for m1 in m1s]\n",
    "times_4 = [time_to_deadlock(m1=m1, beta=0.4) for m1 in m1s]\n",
    "times_5 = [time_to_deadlock(m1=m1, beta=0.5) for m1 in m1s]\n",
    "times_6 = [time_to_deadlock(m1=m1, beta=0.6) for m1 in m1s]\n",
    "times_7 = [time_to_deadlock(m1=m1, beta=0.7) for m1 in m1s]"
   ]
  },
  {
   "cell_type": "code",
   "execution_count": 72,
   "metadata": {
    "collapsed": true
   },
   "outputs": [],
   "source": [
    "def plot_min_point(times):\n",
    "    x, y = min([(i, j) for i, j in enumerate(times)], key=lambda x: x[1])\n",
    "    plt.scatter([m1s[x]], [y])"
   ]
  },
  {
   "cell_type": "code",
   "execution_count": 73,
   "metadata": {
    "collapsed": false
   },
   "outputs": [
    {
     "data": {
      "image/png": "[encoded data removed]",
      "text/plain": [
       "<matplotlib.figure.Figure at 0xa6440796a0>"
      ]
     },
     "metadata": {},
     "output_type": "display_data"
    }
   ],
   "source": [
    "plt.figure()\n",
    "plt.plot(m1s, times_1, label = \".1\")\n",
    "plot_min_point(times_1)\n",
    "plt.plot(m1s, times_2, label = \".2\")\n",
    "plot_min_point(times_2)\n",
    "plt.plot(m1s, times_3, label = \".3\")\n",
    "plot_min_point(times_3)\n",
    "plt.plot(m1s, times_4, label = \".4\")\n",
    "plot_min_point(times_4)\n",
    "plt.plot(m1s, times_5, label = \".5\")\n",
    "plot_min_point(times_5)\n",
    "plt.plot(m1s, times_6, label = \".6\")\n",
    "plot_min_point(times_6)\n",
    "plt.plot(m1s, times_7, label = \".7\")\n",
    "plot_min_point(times_7)\n",
    "plt.xlabel(\"mu\")\n",
    "plt.ylabel(\"Time_to deadlock\")\n",
    "plt.legend();"
   ]
  },
  {
   "cell_type": "code",
   "execution_count": 62,
   "metadata": {
    "collapsed": false
   },
   "outputs": [
    {
     "data": {
      "text/plain": [
       "(0, 0.04)"
      ]
     },
     "execution_count": 62,
     "metadata": {},
     "output_type": "execute_result"
    }
   ],
   "source": [
    "min([(i, j) for i, j in enumerate(m1s)], key=lambda x: x[1])"
   ]
  },
  {
   "cell_type": "code",
   "execution_count": 63,
   "metadata": {
    "collapsed": false
   },
   "outputs": [
    {
     "ename": "TypeError",
     "evalue": "scatter() missing 1 required positional argument: 'y'",
     "output_type": "error",
     "traceback": [
      "\u001b[1;31m---------------------------------------------------------------------------\u001b[0m",
      "\u001b[1;31mTypeError\u001b[0m                                 Traceback (most recent call last)",
      "\u001b[1;32m<ipython-input-63-cd7c33349555>\u001b[0m in \u001b[0;36m<module>\u001b[1;34m()\u001b[0m\n\u001b[1;32m----> 1\u001b[1;33m \u001b[0mplt\u001b[0m\u001b[1;33m.\u001b[0m\u001b[0mscatter\u001b[0m\u001b[1;33m(\u001b[0m\u001b[1;33m(\u001b[0m\u001b[1;36m0\u001b[0m\u001b[1;33m,\u001b[0m \u001b[1;36m0.04\u001b[0m\u001b[1;33m)\u001b[0m\u001b[1;33m)\u001b[0m\u001b[1;33m;\u001b[0m\u001b[1;33m\u001b[0m\u001b[0m\n\u001b[0m",
      "\u001b[1;31mTypeError\u001b[0m: scatter() missing 1 required positional argument: 'y'"
     ]
    }
   ],
   "source": [
    "plt.scatter((0, 0.04));"
   ]
  },
  {
   "cell_type": "code",
   "execution_count": null,
   "metadata": {
    "collapsed": true
   },
   "outputs": [],
   "source": []
  }
 ],
 "metadata": {
  "anaconda-cloud": {},
  "kernelspec": {
   "display_name": "Python 3",
   "language": "python",
   "name": "python3"
  },
  "language_info": {
   "codemirror_mode": {
    "name": "ipython",
    "version": 3
   },
   "file_extension": ".py",
   "mimetype": "text/x-python",
   "name": "python",
   "nbconvert_exporter": "python",
   "pygments_lexer": "ipython3",
   "version": "3.5.1"
  }
 },
 "nbformat": 4,
 "nbformat_minor": 0
}
